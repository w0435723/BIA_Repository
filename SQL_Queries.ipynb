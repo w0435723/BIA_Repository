{
    "metadata": {
        "kernelspec": {
            "name": "SQL",
            "display_name": "SQL",
            "language": "sql"
        },
        "language_info": {
            "name": "sql",
            "version": ""
        }
    },
    "nbformat_minor": 2,
    "nbformat": 4,
    "cells": [
        {
            "cell_type": "markdown",
            "source": [
                "# Introduction to 25 Tips Project\n",
                "\n",
                "This project explores 25 SQL Tips. Each tip demonstrates SQL capabilities with examples that can be directly applied.\n",
                "\n",
                "**Legend:**  \n",
                "🗃️ Classification of the SQL function or feature. \n",
                "📝 An explanation for why or when to use the SQL tip. \n",
                "⚙️ Example of how it works. \n",
                "🖥️ Sample query."
            ],
            "metadata": {
                "azdata_cell_guid": "91384faa-e82f-4d80-b1e4-f6d0eb8b26c7"
            },
            "attachments": {}
        },
        {
            "cell_type": "markdown",
            "source": [
                "## **📍1. Use ROLLUP to calculate Subtotals and Grand Totals**\n",
                "\n",
                "🗂️ **`ROLLUP`** is an extension of the **`GROUP BY`** clause.\n",
                "\n",
                "📝 Allows you to calculate subtotals and a grand total within a single query. Data can be summarized or grouped in levels without needing to write a query for each level of aggregation.\n",
                "\n",
                "⚙️ If you have an order details table and want to see total sales by CustomerID and ProductID, along with subtotals per customer and a grand total for all sales.\n",
                "\n",
                "🖥️    \n",
                "SELECT C\n",
                ""
            ],
            "metadata": {
                "azdata_cell_guid": "1de11128-b02d-4154-b008-58555519b0dc"
            },
            "attachments": {}
        },
        {
            "cell_type": "code",
            "source": [
                "SELECT "
            ],
            "metadata": {
                "azdata_cell_guid": "2f128d74-dfb1-4b25-95f0-3ba8713a7524",
                "language": "sql"
            },
            "outputs": [
                {
                    "output_type": "error",
                    "evalue": "Msg 102, Level 15, State 1, Line 1\r\nIncorrect syntax near '0xd83d'.",
                    "ename": "",
                    "traceback": []
                },
                {
                    "output_type": "display_data",
                    "data": {
                        "text/html": "Total execution time: 00:00:00.002"
                    },
                    "metadata": {}
                }
            ],
            "execution_count": 2
        },
        {
            "cell_type": "markdown",
            "source": [
                "## **📍2. Replace NULL values with COALESCE** \n",
                "\n",
                "🗂️ **COALESCE** is a function.\n",
                "\n",
                "📝 Allows you to substitute `NULL` values with a value that reads better or understood better by the end user. This is helpful in reports or result sets where `NULL` values might otherwise cause confusion.\n",
                "\n",
                "⚙️ Suppose you want to list customer names along with their region, but for some customers, the region field is empty (NULL). You can replace these NULL values with \"No Region\" to make the data moe readable.\n",
                "\n",
                "🖥️\n",
                "\n",
                "SELECT "
            ],
            "metadata": {
                "azdata_cell_guid": "2fd5f846-3cbf-4846-93ff-ca5c935bb038"
            },
            "attachments": {}
        },
        {
            "cell_type": "code",
            "source": [
                "SELECT\r\n",
                ""
            ],
            "metadata": {
                "azdata_cell_guid": "a3fcbd21-67f9-4cbb-b67e-08312ab036fe",
                "language": "sql",
                "tags": []
            },
            "outputs": [
                {
                    "output_type": "error",
                    "evalue": "Msg 102, Level 15, State 1, Line 1\r\nIncorrect syntax near 'SELECT'.",
                    "ename": "",
                    "traceback": []
                },
                {
                    "output_type": "display_data",
                    "data": {
                        "text/html": "Total execution time: 00:00:00"
                    },
                    "metadata": {}
                }
            ],
            "execution_count": 3
        },
        {
            "cell_type": "markdown",
            "source": [
                "_All queries use the Northwind\\_2023 database._\n",
                "\n",
                "_All emojis in this project are sourced from [emojicopy.com](https:\\emojicopy.com\\)_"
            ],
            "metadata": {
                "azdata_cell_guid": "2b44ff3c-8b23-4506-af19-75c8b91151fc"
            },
            "attachments": {}
        }
    ]
}