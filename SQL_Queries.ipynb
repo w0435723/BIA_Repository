{
    "metadata": {
        "kernelspec": {
            "name": "SQL",
            "display_name": "SQL",
            "language": "sql"
        },
        "language_info": {
            "name": "sql",
            "version": ""
        }
    },
    "nbformat_minor": 2,
    "nbformat": 4,
    "cells": [
        {
            "cell_type": "markdown",
            "source": [
                "# Introduction to 25 Tips in SQL, using SQL Server Database\n",
                "\n",
                "This project explores 25 SQL Tips to enhance your understading of SQL functionalities. Each tip demonstrates the capabilities with examples that can be directly applied to the Northwind\\_2023 database or easily adjusted for your database's schema. Each tip includes an explanation of its classification, why you might use it, and an example with sample output.\n",
                "\n",
                "**Legend:**  \n",
                "🗃️ Classification of the SQL function or capability.  \n",
                "📝 An explanation for why or when to use the SQL tip.  \n",
                "⚙️ Use case example(s).  \n",
                "🚫 Any limitations or additional considerations.   \n",
                "🖥️ Sample query."
            ],
            "metadata": {
                "azdata_cell_guid": "91384faa-e82f-4d80-b1e4-f6d0eb8b26c7"
            },
            "attachments": {}
        },
        {
            "cell_type": "markdown",
            "source": [
                "## 🗃️ **Date and Time Functions**\r\n",
                "Used to manipulate and format date and time values for time based analysis and reporting."
            ],
            "metadata": {
                "azdata_cell_guid": "eff6e46b-61f6-4b31-b33b-9f1043c18bbb"
            },
            "attachments": {}
        },
        {
            "cell_type": "markdown",
            "source": [
                "## **📍1. Use GETDATE to get current date and time**\n",
                "\n",
                "📝 `GETDATE` provides the current date and time of the system, which is useful for tracking the time of an action.  \n",
                "⚙️ Show all orders placed today.  \n",
                "\n",
                "🖥️  \n",
                "SELECT *  \n",
                "FROM Orders  \n",
                "WHERE OrderDate = CONVERT(date, GETDATE());\n",
                "\n",
                "🚫 Since, this database has 2023 records, this function example will return no records.  \n",
                "⚙️ View the current system date and time stamp.  \n",
                "\n",
                "🖥️  \n",
                "SELECT GETDATE() AS CurrentDateTime;"
            ],
            "metadata": {
                "azdata_cell_guid": "152d1f81-230c-42e5-aaba-e59f37ade655"
            },
            "attachments": {}
        },
        {
            "cell_type": "code",
            "source": [
                "SELECT GETDATE() AS CurrentDateTime;"
            ],
            "metadata": {
                "azdata_cell_guid": "5820c3d5-5e41-4a4e-83eb-60d81392ed69",
                "language": "sql",
                "tags": [
                    "hide_input"
                ]
            },
            "outputs": [
                {
                    "output_type": "display_data",
                    "data": {
                        "text/html": "(1 row affected)"
                    },
                    "metadata": {}
                },
                {
                    "output_type": "display_data",
                    "data": {
                        "text/html": "Total execution time: 00:00:00.085"
                    },
                    "metadata": {}
                },
                {
                    "output_type": "execute_result",
                    "execution_count": 1,
                    "data": {
                        "application/vnd.dataresource+json": {
                            "schema": {
                                "fields": [
                                    {
                                        "name": "CurrentDateTime"
                                    }
                                ]
                            },
                            "data": [
                                {
                                    "CurrentDateTime": "2024-11-02 13:26:22.460"
                                }
                            ]
                        },
                        "text/html": "<table><tr><th>CurrentDateTime</th></tr><tr><td>2024-11-02 13:26:22.460</td></tr></table>"
                    },
                    "metadata": {}
                }
            ],
            "execution_count": 1
        },
        {
            "cell_type": "markdown",
            "source": [
                "## **📍2. Use DATEPART to extracts parts of a date**\n",
                "\n",
                "📝 `DATEPART` extracts specific parts of a date, like year, month, or day. It’s useful for categorizing or analyzing data by time periods.    \n",
                "⚙️ Show orders placed in each month.    \n",
                "\n",
                "🖥️     \n",
                "SELECT DATEPART(month, OrderDate) AS Month,  \n",
                "    COUNT(OrderID) AS OrderCount  \n",
                "FROM Orders  \n",
                "GROUP BY DATEPART(month, OrderDate)  \n",
                "ORDER BY DATEPART(month, OrderDate);  "
            ],
            "metadata": {
                "azdata_cell_guid": "427a3c49-aae6-4818-a2c1-3b531c8fc772"
            },
            "attachments": {}
        },
        {
            "cell_type": "code",
            "source": [
                "SELECT DATEPART(month, OrderDate) AS Month,\r\n",
                "    COUNT(OrderID) AS OrderCount\r\n",
                "FROM Orders\r\n",
                "GROUP BY DATEPART(month, OrderDate)\r\n",
                "ORDER BY DATEPART(month, OrderDate);"
            ],
            "metadata": {
                "azdata_cell_guid": "798d1fdc-a493-490f-8e05-f465094b72e3",
                "language": "sql"
            },
            "outputs": [
                {
                    "output_type": "display_data",
                    "data": {
                        "text/html": "(12 rows affected)"
                    },
                    "metadata": {}
                },
                {
                    "output_type": "display_data",
                    "data": {
                        "text/html": "Total execution time: 00:00:00.018"
                    },
                    "metadata": {}
                },
                {
                    "output_type": "execute_result",
                    "execution_count": 5,
                    "data": {
                        "application/vnd.dataresource+json": {
                            "schema": {
                                "fields": [
                                    {
                                        "name": "Month"
                                    },
                                    {
                                        "name": "OrderCount"
                                    }
                                ]
                            },
                            "data": [
                                {
                                    "Month": "1",
                                    "OrderCount": "88"
                                },
                                {
                                    "Month": "2",
                                    "OrderCount": "83"
                                },
                                {
                                    "Month": "3",
                                    "OrderCount": "103"
                                },
                                {
                                    "Month": "4",
                                    "OrderCount": "105"
                                },
                                {
                                    "Month": "5",
                                    "OrderCount": "46"
                                },
                                {
                                    "Month": "6",
                                    "OrderCount": "30"
                                },
                                {
                                    "Month": "7",
                                    "OrderCount": "55"
                                },
                                {
                                    "Month": "8",
                                    "OrderCount": "58"
                                },
                                {
                                    "Month": "9",
                                    "OrderCount": "60"
                                },
                                {
                                    "Month": "10",
                                    "OrderCount": "64"
                                },
                                {
                                    "Month": "11",
                                    "OrderCount": "59"
                                },
                                {
                                    "Month": "12",
                                    "OrderCount": "79"
                                }
                            ]
                        },
                        "text/html": "<table><tr><th>Month</th><th>OrderCount</th></tr><tr><td>1</td><td>88</td></tr><tr><td>2</td><td>83</td></tr><tr><td>3</td><td>103</td></tr><tr><td>4</td><td>105</td></tr><tr><td>5</td><td>46</td></tr><tr><td>6</td><td>30</td></tr><tr><td>7</td><td>55</td></tr><tr><td>8</td><td>58</td></tr><tr><td>9</td><td>60</td></tr><tr><td>10</td><td>64</td></tr><tr><td>11</td><td>59</td></tr><tr><td>12</td><td>79</td></tr></table>"
                    },
                    "metadata": {}
                }
            ],
            "execution_count": 5
        },
        {
            "cell_type": "markdown",
            "source": [
                "## **📍3. Use DATEDIFF to calculate date differences**\n",
                "\n",
                "📝 `DATEDIFF` calculates the difference between two dates, which can be used to measure durations.    \n",
                "⚙️ Calculate the number of days between order and shipment, for durations over 34 days.  \n",
                "\n",
                "🖥️   \n",
                "SELECT OrderID,   \n",
                "    DATEDIFF(day, OrderDate, ShippedDate) AS DaysToShip  \n",
                "FROM Orders  \n",
                "WHERE DATEDIFF(day, OrderDate, ShippedDate)  \n",
                "ORDER BY DaysToShip DESC;  "
            ],
            "metadata": {
                "azdata_cell_guid": "55bf45c4-0064-4886-92da-c620b7bb6e8c"
            },
            "attachments": {}
        },
        {
            "cell_type": "code",
            "source": [
                "SELECT OrderID, \r\n",
                "    DATEDIFF(day, OrderDate, ShippedDate) AS DaysToShip\r\n",
                "FROM Orders\r\n",
                "WHERE DATEDIFF(day, OrderDate, ShippedDate) > 34\r\n",
                "ORDER BY DaysToShip DESC;"
            ],
            "metadata": {
                "azdata_cell_guid": "f3850246-4b69-4a45-8a65-04fc7a830641",
                "language": "sql"
            },
            "outputs": [
                {
                    "output_type": "display_data",
                    "data": {
                        "text/html": "(7 rows affected)"
                    },
                    "metadata": {}
                },
                {
                    "output_type": "display_data",
                    "data": {
                        "text/html": "Total execution time: 00:00:00.014"
                    },
                    "metadata": {}
                },
                {
                    "output_type": "execute_result",
                    "execution_count": 6,
                    "data": {
                        "application/vnd.dataresource+json": {
                            "schema": {
                                "fields": [
                                    {
                                        "name": "OrderID"
                                    },
                                    {
                                        "name": "DaysToShip"
                                    }
                                ]
                            },
                            "data": [
                                {
                                    "OrderID": "10660",
                                    "DaysToShip": "37"
                                },
                                {
                                    "OrderID": "10777",
                                    "DaysToShip": "37"
                                },
                                {
                                    "OrderID": "10924",
                                    "DaysToShip": "35"
                                },
                                {
                                    "OrderID": "10380",
                                    "DaysToShip": "35"
                                },
                                {
                                    "OrderID": "10427",
                                    "DaysToShip": "35"
                                },
                                {
                                    "OrderID": "10545",
                                    "DaysToShip": "35"
                                },
                                {
                                    "OrderID": "10593",
                                    "DaysToShip": "35"
                                }
                            ]
                        },
                        "text/html": "<table><tr><th>OrderID</th><th>DaysToShip</th></tr><tr><td>10660</td><td>37</td></tr><tr><td>10777</td><td>37</td></tr><tr><td>10924</td><td>35</td></tr><tr><td>10380</td><td>35</td></tr><tr><td>10427</td><td>35</td></tr><tr><td>10545</td><td>35</td></tr><tr><td>10593</td><td>35</td></tr></table>"
                    },
                    "metadata": {}
                }
            ],
            "execution_count": 6
        },
        {
            "cell_type": "markdown",
            "source": [
                "## 🗃️ **Aggregate Functions**\r\n",
                "Perform calculations on a set of rows and return a single summarized value as the result."
            ],
            "metadata": {
                "azdata_cell_guid": "5d71dfad-03b0-4967-a646-6ea835d9f662"
            },
            "attachments": {}
        },
        {
            "cell_type": "markdown",
            "source": [
                "## **📍4. Use MAX to find the maximum value in a column**\n",
                "\n",
                "📝 `MAX` identifies the hishest value in in a set of values, which is useful in finding maximums or outliers.   \n",
                "⚙️ Find the highest unit price in the _Products_ table.\n",
                "\n",
                "🖥️  \n",
                "SELECT ProductName,  \n",
                "    UnitPrice AS MaxPrice  \n",
                "FROM Products  \n",
                "WHERE UnitPrice = (SELECT MAX(UnitPrice) FROM Products);  \n",
                "\n",
                "🚫 Only works with numeric it date values. "
            ],
            "metadata": {
                "azdata_cell_guid": "9e5667ec-f377-4af4-ad35-9af91504c1c3"
            },
            "attachments": {}
        },
        {
            "cell_type": "code",
            "source": [
                "SELECT ProductName, \r\n",
                "    UnitPrice AS MaxPrice\r\n",
                "FROM Products\r\n",
                "WHERE UnitPrice = (SELECT MAX(UnitPrice) FROM Products);"
            ],
            "metadata": {
                "azdata_cell_guid": "17ba000a-ea6a-4be8-b731-34c751cf5905",
                "language": "sql",
                "tags": []
            },
            "outputs": [
                {
                    "output_type": "display_data",
                    "data": {
                        "text/html": "(1 row affected)"
                    },
                    "metadata": {}
                },
                {
                    "output_type": "display_data",
                    "data": {
                        "text/html": "Total execution time: 00:00:00.024"
                    },
                    "metadata": {}
                },
                {
                    "output_type": "execute_result",
                    "execution_count": 7,
                    "data": {
                        "application/vnd.dataresource+json": {
                            "schema": {
                                "fields": [
                                    {
                                        "name": "ProductName"
                                    },
                                    {
                                        "name": "MaxPrice"
                                    }
                                ]
                            },
                            "data": [
                                {
                                    "ProductName": "Côte de Blaye",
                                    "MaxPrice": "263.50"
                                }
                            ]
                        },
                        "text/html": "<table><tr><th>ProductName</th><th>MaxPrice</th></tr><tr><td>Côte de Blaye</td><td>263.50</td></tr></table>"
                    },
                    "metadata": {}
                }
            ],
            "execution_count": 7
        },
        {
            "cell_type": "markdown",
            "source": [
                "## **📍5. Use MIN to find the minimum value in a column**\n",
                "\n",
                "📝 Similarly, `MIN` identifies the lowest value in in a set of values, which is useful in finding minimums or outliers.   \n",
                "⚙️ Find the minimum order quantity in the _OrderDetails_ table.\n",
                "\n",
                "🖥️   \n",
                "SELECT ProductID,   \n",
                "    Quantity AS MinQuantity  \n",
                "FROM OrderDetails  \n",
                "WHERE Quantity = (SELECT MIN(Quantity) FROM OrderDetails);  \n",
                "\n",
                "🚫 Only works with numeric it date values. "
            ],
            "metadata": {
                "azdata_cell_guid": "785ec2fc-1d92-4dbc-a1c9-e4f2aa0898c2"
            },
            "attachments": {}
        },
        {
            "cell_type": "code",
            "source": [
                "SELECT ProductID, \r\n",
                "    Quantity AS MinQuantity\r\n",
                "FROM OrderDetails\r\n",
                "WHERE Quantity = (SELECT MIN(Quantity) FROM OrderDetails);\r\n",
                ""
            ],
            "metadata": {
                "azdata_cell_guid": "0de08efb-08eb-4e7a-bb79-642f40d0adc4",
                "language": "sql",
                "tags": []
            },
            "outputs": [
                {
                    "output_type": "display_data",
                    "data": {
                        "text/html": "(17 rows affected)"
                    },
                    "metadata": {}
                },
                {
                    "output_type": "display_data",
                    "data": {
                        "text/html": "Total execution time: 00:00:00.009"
                    },
                    "metadata": {}
                },
                {
                    "output_type": "execute_result",
                    "execution_count": 8,
                    "data": {
                        "application/vnd.dataresource+json": {
                            "schema": {
                                "fields": [
                                    {
                                        "name": "ProductID"
                                    },
                                    {
                                        "name": "MinQuantity"
                                    }
                                ]
                            },
                            "data": [
                                {
                                    "ProductID": "37",
                                    "MinQuantity": "1"
                                },
                                {
                                    "ProductID": "19",
                                    "MinQuantity": "1"
                                },
                                {
                                    "ProductID": "69",
                                    "MinQuantity": "1"
                                },
                                {
                                    "ProductID": "13",
                                    "MinQuantity": "1"
                                },
                                {
                                    "ProductID": "72",
                                    "MinQuantity": "1"
                                },
                                {
                                    "ProductID": "59",
                                    "MinQuantity": "1"
                                },
                                {
                                    "ProductID": "31",
                                    "MinQuantity": "1"
                                },
                                {
                                    "ProductID": "40",
                                    "MinQuantity": "1"
                                },
                                {
                                    "ProductID": "30",
                                    "MinQuantity": "1"
                                },
                                {
                                    "ProductID": "4",
                                    "MinQuantity": "1"
                                },
                                {
                                    "ProductID": "6",
                                    "MinQuantity": "1"
                                },
                                {
                                    "ProductID": "7",
                                    "MinQuantity": "1"
                                },
                                {
                                    "ProductID": "10",
                                    "MinQuantity": "1"
                                },
                                {
                                    "ProductID": "14",
                                    "MinQuantity": "1"
                                },
                                {
                                    "ProductID": "20",
                                    "MinQuantity": "1"
                                },
                                {
                                    "ProductID": "32",
                                    "MinQuantity": "1"
                                },
                                {
                                    "ProductID": "66",
                                    "MinQuantity": "1"
                                }
                            ]
                        },
                        "text/html": "<table><tr><th>ProductID</th><th>MinQuantity</th></tr><tr><td>37</td><td>1</td></tr><tr><td>19</td><td>1</td></tr><tr><td>69</td><td>1</td></tr><tr><td>13</td><td>1</td></tr><tr><td>72</td><td>1</td></tr><tr><td>59</td><td>1</td></tr><tr><td>31</td><td>1</td></tr><tr><td>40</td><td>1</td></tr><tr><td>30</td><td>1</td></tr><tr><td>4</td><td>1</td></tr><tr><td>6</td><td>1</td></tr><tr><td>7</td><td>1</td></tr><tr><td>10</td><td>1</td></tr><tr><td>14</td><td>1</td></tr><tr><td>20</td><td>1</td></tr><tr><td>32</td><td>1</td></tr><tr><td>66</td><td>1</td></tr></table>"
                    },
                    "metadata": {}
                }
            ],
            "execution_count": 8
        },
        {
            "cell_type": "markdown",
            "source": [
                "## **📍6. Use COUNT to count rows or non-null values.**\n",
                "\n",
                "📝 `COUNT` is used to count the number of rows or non-null values, which can be helpful in understanding the data volume or calculating totals.   \n",
                "⚙️ Find the top 5 customers with the hishest order count.\n",
                "\n",
                "🖥️    \n",
                "SELECT TOP 5 CustomerID,     \n",
                "    COUNT(OrderID) AS OrderCount  \n",
                "FROM Orders  \n",
                "GROUP BY CustomerID  \n",
                "ORDER BY OrderCount DESC;\n",
                "\n",
                "🚫 `COUNT(column)` only counts non-null values."
            ],
            "metadata": {
                "azdata_cell_guid": "10874713-4c2a-41c8-89bf-7db06a9d775a"
            },
            "attachments": {}
        },
        {
            "cell_type": "code",
            "source": [
                "SELECT TOP 5 CustomerID, \r\n",
                "    COUNT(OrderID) AS OrderCount\r\n",
                "FROM Orders\r\n",
                "GROUP BY CustomerID\r\n",
                "ORDER BY OrderCount DESC;"
            ],
            "metadata": {
                "azdata_cell_guid": "d323726a-91a4-488f-9393-8039e097fcc8",
                "language": "sql"
            },
            "outputs": [
                {
                    "output_type": "display_data",
                    "data": {
                        "text/html": "(5 rows affected)"
                    },
                    "metadata": {}
                },
                {
                    "output_type": "display_data",
                    "data": {
                        "text/html": "Total execution time: 00:00:00.012"
                    },
                    "metadata": {}
                },
                {
                    "output_type": "execute_result",
                    "execution_count": 9,
                    "data": {
                        "application/vnd.dataresource+json": {
                            "schema": {
                                "fields": [
                                    {
                                        "name": "CustomerID"
                                    },
                                    {
                                        "name": "OrderCount"
                                    }
                                ]
                            },
                            "data": [
                                {
                                    "CustomerID": "SAVEA",
                                    "OrderCount": "31"
                                },
                                {
                                    "CustomerID": "ERNSH",
                                    "OrderCount": "30"
                                },
                                {
                                    "CustomerID": "QUICK",
                                    "OrderCount": "28"
                                },
                                {
                                    "CustomerID": "FOLKO",
                                    "OrderCount": "19"
                                },
                                {
                                    "CustomerID": "HUNGO",
                                    "OrderCount": "19"
                                }
                            ]
                        },
                        "text/html": "<table><tr><th>CustomerID</th><th>OrderCount</th></tr><tr><td>SAVEA</td><td>31</td></tr><tr><td>ERNSH</td><td>30</td></tr><tr><td>QUICK</td><td>28</td></tr><tr><td>FOLKO</td><td>19</td></tr><tr><td>HUNGO</td><td>19</td></tr></table>"
                    },
                    "metadata": {}
                }
            ],
            "execution_count": 9
        },
        {
            "cell_type": "markdown",
            "source": [
                "## **📍7. Use HAVING to count rows or non-null values.**\n",
                "\n",
                "📝 `HAVING` filters after aggragation, which is useful in specifying conditions on grouped data.  \n",
                "⚙️ Show customers who have placed more than 20 orders.\n",
                "\n",
                "🖥️  \n",
                "SELECT CustomerID, COUNT(OrderID) AS OrderCount  \n",
                "    FROM Orders  \n",
                "GROUP BY CustomerID  \n",
                "HAVING COUNT(OrderID) > 20;\n",
                "\n",
                "🚫`HAVING` is only used with `GROUP BY`, for other fitering `WHERE` can be used."
            ],
            "metadata": {
                "azdata_cell_guid": "7f168978-f5cc-46bb-a991-51f8ef79a9f1"
            },
            "attachments": {}
        },
        {
            "cell_type": "code",
            "source": [
                "SELECT CustomerID, COUNT(OrderID) AS OrderCount\r\n",
                "    FROM Orders\r\n",
                "GROUP BY CustomerID\r\n",
                "HAVING COUNT(OrderID) > 20;"
            ],
            "metadata": {
                "azdata_cell_guid": "7ce64557-db30-4ab4-8f1e-60a640845ce9",
                "language": "sql"
            },
            "outputs": [
                {
                    "output_type": "display_data",
                    "data": {
                        "text/html": "(3 rows affected)"
                    },
                    "metadata": {}
                },
                {
                    "output_type": "display_data",
                    "data": {
                        "text/html": "Total execution time: 00:00:00.009"
                    },
                    "metadata": {}
                },
                {
                    "output_type": "execute_result",
                    "execution_count": 10,
                    "data": {
                        "application/vnd.dataresource+json": {
                            "schema": {
                                "fields": [
                                    {
                                        "name": "CustomerID"
                                    },
                                    {
                                        "name": "OrderCount"
                                    }
                                ]
                            },
                            "data": [
                                {
                                    "CustomerID": "ERNSH",
                                    "OrderCount": "30"
                                },
                                {
                                    "CustomerID": "QUICK",
                                    "OrderCount": "28"
                                },
                                {
                                    "CustomerID": "SAVEA",
                                    "OrderCount": "31"
                                }
                            ]
                        },
                        "text/html": "<table><tr><th>CustomerID</th><th>OrderCount</th></tr><tr><td>ERNSH</td><td>30</td></tr><tr><td>QUICK</td><td>28</td></tr><tr><td>SAVEA</td><td>31</td></tr></table>"
                    },
                    "metadata": {}
                }
            ],
            "execution_count": 10
        },
        {
            "cell_type": "markdown",
            "source": [
                "## **📍8. Use ROLLUP to calculate Subtotals and Grand Totals.**\n",
                "\n",
                "📝 `ROLLUP` is an extension of the `GROUP BY` clause. It allows you to calculate subtotals and a grand total within a single query. Data can be summarized or grouped in levels without needing to write a query for each level of aggregation.  \n",
                "⚙️ Calculate total sales by _CustomerID_ and _ProductID_, with subtotals per customer and a grand total for all sales.\n",
                "\n",
                "🖥️  \n",
                "SELECT o.CustomerID,  \n",
                "    od.ProductID,  \n",
                "    SUM(od.UnitPrice * od.Quantity) AS TotalSales  \n",
                "FROM OrderDetails AS od  \n",
                "JOIN Orders AS o ON od.OrderID = o.OrderID  \n",
                "WHERE o.CustomerID IN ('ALFKI', 'ANATR')  \n",
                "GROUP BY ROLLUP (o.CustomerID, od.ProductID);\n",
                "\n",
                "🚫 `NULL` values represents the subtotals and totals, which may reduce the readability."
            ],
            "metadata": {
                "azdata_cell_guid": "1de11128-b02d-4154-b008-58555519b0dc"
            },
            "attachments": {}
        },
        {
            "cell_type": "code",
            "source": [
                "SELECT o.CustomerID, \r\n",
                "    od.ProductID, \r\n",
                "    SUM(od.UnitPrice * od.Quantity) AS TotalSales\r\n",
                "FROM OrderDetails AS od\r\n",
                "JOIN Orders AS o ON od.OrderID = o.OrderID\r\n",
                "WHERE o.CustomerID IN ('ALFKI', 'ANATR')\r\n",
                "GROUP BY ROLLUP (o.CustomerID, od.ProductID);"
            ],
            "metadata": {
                "azdata_cell_guid": "f44c5129-9116-4065-b024-4463e22c8346",
                "language": "sql"
            },
            "outputs": [
                {
                    "output_type": "display_data",
                    "data": {
                        "text/html": "(24 rows affected)"
                    },
                    "metadata": {}
                },
                {
                    "output_type": "display_data",
                    "data": {
                        "text/html": "Total execution time: 00:00:00.014"
                    },
                    "metadata": {}
                },
                {
                    "output_type": "execute_result",
                    "execution_count": 12,
                    "data": {
                        "application/vnd.dataresource+json": {
                            "schema": {
                                "fields": [
                                    {
                                        "name": "CustomerID"
                                    },
                                    {
                                        "name": "ProductID"
                                    },
                                    {
                                        "name": "TotalSales"
                                    }
                                ]
                            },
                            "data": [
                                {
                                    "CustomerID": "ALFKI",
                                    "ProductID": "3",
                                    "TotalSales": "60.00"
                                },
                                {
                                    "CustomerID": "ALFKI",
                                    "ProductID": "6",
                                    "TotalSales": "400.00"
                                },
                                {
                                    "CustomerID": "ALFKI",
                                    "ProductID": "28",
                                    "TotalSales": "775.20"
                                },
                                {
                                    "CustomerID": "ALFKI",
                                    "ProductID": "39",
                                    "TotalSales": "378.00"
                                },
                                {
                                    "CustomerID": "ALFKI",
                                    "ProductID": "46",
                                    "TotalSales": "24.00"
                                },
                                {
                                    "CustomerID": "ALFKI",
                                    "ProductID": "58",
                                    "TotalSales": "530.00"
                                },
                                {
                                    "CustomerID": "ALFKI",
                                    "ProductID": "59",
                                    "TotalSales": "825.00"
                                },
                                {
                                    "CustomerID": "ALFKI",
                                    "ProductID": "63",
                                    "TotalSales": "878.00"
                                },
                                {
                                    "CustomerID": "ALFKI",
                                    "ProductID": "71",
                                    "TotalSales": "430.00"
                                },
                                {
                                    "CustomerID": "ALFKI",
                                    "ProductID": "76",
                                    "TotalSales": "270.00"
                                },
                                {
                                    "CustomerID": "ALFKI",
                                    "ProductID": "77",
                                    "TotalSales": "26.00"
                                },
                                {
                                    "CustomerID": "ALFKI",
                                    "ProductID": "NULL",
                                    "TotalSales": "4596.20"
                                },
                                {
                                    "CustomerID": "ANATR",
                                    "ProductID": "11",
                                    "TotalSales": "42.00"
                                },
                                {
                                    "CustomerID": "ANATR",
                                    "ProductID": "13",
                                    "TotalSales": "60.00"
                                },
                                {
                                    "CustomerID": "ANATR",
                                    "ProductID": "14",
                                    "TotalSales": "69.75"
                                },
                                {
                                    "CustomerID": "ANATR",
                                    "ProductID": "19",
                                    "TotalSales": "64.40"
                                },
                                {
                                    "CustomerID": "ANATR",
                                    "ProductID": "32",
                                    "TotalSales": "320.00"
                                },
                                {
                                    "CustomerID": "ANATR",
                                    "ProductID": "42",
                                    "TotalSales": "70.00"
                                },
                                {
                                    "CustomerID": "ANATR",
                                    "ProductID": "60",
                                    "TotalSales": "340.00"
                                },
                                {
                                    "CustomerID": "ANATR",
                                    "ProductID": "69",
                                    "TotalSales": "28.80"
                                },
                                {
                                    "CustomerID": "ANATR",
                                    "ProductID": "70",
                                    "TotalSales": "60.00"
                                },
                                {
                                    "CustomerID": "ANATR",
                                    "ProductID": "72",
                                    "TotalSales": "348.00"
                                },
                                {
                                    "CustomerID": "ANATR",
                                    "ProductID": "NULL",
                                    "TotalSales": "1402.95"
                                },
                                {
                                    "CustomerID": "NULL",
                                    "ProductID": "NULL",
                                    "TotalSales": "5999.15"
                                }
                            ]
                        },
                        "text/html": "<table><tr><th>CustomerID</th><th>ProductID</th><th>TotalSales</th></tr><tr><td>ALFKI</td><td>3</td><td>60.00</td></tr><tr><td>ALFKI</td><td>6</td><td>400.00</td></tr><tr><td>ALFKI</td><td>28</td><td>775.20</td></tr><tr><td>ALFKI</td><td>39</td><td>378.00</td></tr><tr><td>ALFKI</td><td>46</td><td>24.00</td></tr><tr><td>ALFKI</td><td>58</td><td>530.00</td></tr><tr><td>ALFKI</td><td>59</td><td>825.00</td></tr><tr><td>ALFKI</td><td>63</td><td>878.00</td></tr><tr><td>ALFKI</td><td>71</td><td>430.00</td></tr><tr><td>ALFKI</td><td>76</td><td>270.00</td></tr><tr><td>ALFKI</td><td>77</td><td>26.00</td></tr><tr><td>ALFKI</td><td>NULL</td><td>4596.20</td></tr><tr><td>ANATR</td><td>11</td><td>42.00</td></tr><tr><td>ANATR</td><td>13</td><td>60.00</td></tr><tr><td>ANATR</td><td>14</td><td>69.75</td></tr><tr><td>ANATR</td><td>19</td><td>64.40</td></tr><tr><td>ANATR</td><td>32</td><td>320.00</td></tr><tr><td>ANATR</td><td>42</td><td>70.00</td></tr><tr><td>ANATR</td><td>60</td><td>340.00</td></tr><tr><td>ANATR</td><td>69</td><td>28.80</td></tr><tr><td>ANATR</td><td>70</td><td>60.00</td></tr><tr><td>ANATR</td><td>72</td><td>348.00</td></tr><tr><td>ANATR</td><td>NULL</td><td>1402.95</td></tr><tr><td>NULL</td><td>NULL</td><td>5999.15</td></tr></table>"
                    },
                    "metadata": {}
                }
            ],
            "execution_count": 12
        },
        {
            "cell_type": "markdown",
            "source": [
                "## **📍9. Replace NULL values with COALESCE**\n",
                "\n",
                "📝 `COALESCE` is a `NULL` handling function. It allows you to substitute `NULL` values with an expression that understood better by the end user. This is helpful in result sets where `NULL` values might otherwise cause confusion, like in the previous example in using `ROLLUP`.\n",
                "\n",
                "⚙️ Calculate total sales by _CustomerID_ and _ProductID_, with subtotals per customer and a grand total for all sales with the labels to replace `NULL` values.\n",
                "\n",
                "🖥️  \n",
                "SELECT COALESCE(o.CustomerID, 'Selected Customers') AS CustomerID,  \n",
                "    CASE  \n",
                "        WHEN o.CustomerID IS NULL AND od.ProductID IS NULL THEN 'Grand Total'  \n",
                "        ELSE COALESCE(CAST(od.ProductID AS VARCHAR), 'Subtotal')  \n",
                "    END AS ProductID,  \n",
                "    SUM(od.UnitPrice * od.Quantity) AS TotalSales  \n",
                "FROM OrderDetails AS od  \n",
                "JOIN Orders AS o ON od.OrderID = o.OrderID  \n",
                "WHERE o.CustomerID IN ('ALFKI', 'ANATR')  \n",
                "GROUP BY ROLLUP (o.CustomerID, od.ProductID);\n",
                "\n",
                "🚫 Values used in `COALESCE` should match the data type of the column, else there will be an error for using integers and strings in the same column within the result set. Eg in _ProductID_, the `INT` data type is not compatible with the string _Subtotal_. So a `CAST` function is used to convert thr integer value into a `VARCHAR` string data type.\n",
                "\n",
                "If a `INT` value was used instead to replace the values of the _ProductID_, then no conversion would be needed.  \n",
                "<u>The query would then read:</u>  \n",
                "SELECT COALESCE(o.CustomerID, 'Grand Total') AS CustomerID,  \n",
                "    COALESCE(od.ProductID, '88888') AS ProductID, -- an integer value '8888' instead of string 'Subtotal' will not need conversion  \n",
                "    SUM(od.UnitPrice * od.Quantity) AS TotalSales  \n",
                "FROM OrderDetails AS od  \n",
                "JOIN Orders AS o ON od.OrderID = o.OrderID  \n",
                "WHERE o.CustomerID IN ('ALFKI', 'ANATR')  \n",
                "GROUP BY ROLLUP (o.CustomerID, od.ProductID);"
            ],
            "metadata": {
                "azdata_cell_guid": "2fd5f846-3cbf-4846-93ff-ca5c935bb038"
            },
            "attachments": {}
        },
        {
            "cell_type": "code",
            "source": [
                "SELECT COALESCE(o.CustomerID, 'Selected Customers') AS CustomerID, \r\n",
                "    CASE \r\n",
                "        WHEN o.CustomerID IS NULL AND od.ProductID IS NULL THEN 'Grand Total'\r\n",
                "        ELSE COALESCE(CAST(od.ProductID AS VARCHAR), 'Subtotal')\r\n",
                "    END AS ProductID, \r\n",
                "    SUM(od.UnitPrice * od.Quantity) AS TotalSales\r\n",
                "FROM OrderDetails AS od\r\n",
                "JOIN Orders AS o ON od.OrderID = o.OrderID\r\n",
                "WHERE o.CustomerID IN ('ALFKI', 'ANATR')\r\n",
                "GROUP BY ROLLUP (o.CustomerID, od.ProductID);"
            ],
            "metadata": {
                "azdata_cell_guid": "ed6698a4-a1d0-44f9-bf51-93d15ca9bc1a",
                "language": "sql"
            },
            "outputs": [
                {
                    "output_type": "display_data",
                    "data": {
                        "text/html": "(24 rows affected)"
                    },
                    "metadata": {}
                },
                {
                    "output_type": "display_data",
                    "data": {
                        "text/html": "Total execution time: 00:00:00.015"
                    },
                    "metadata": {}
                },
                {
                    "output_type": "execute_result",
                    "execution_count": 13,
                    "data": {
                        "application/vnd.dataresource+json": {
                            "schema": {
                                "fields": [
                                    {
                                        "name": "CustomerID"
                                    },
                                    {
                                        "name": "ProductID"
                                    },
                                    {
                                        "name": "TotalSales"
                                    }
                                ]
                            },
                            "data": [
                                {
                                    "CustomerID": "ALFKI",
                                    "ProductID": "3",
                                    "TotalSales": "60.00"
                                },
                                {
                                    "CustomerID": "ALFKI",
                                    "ProductID": "6",
                                    "TotalSales": "400.00"
                                },
                                {
                                    "CustomerID": "ALFKI",
                                    "ProductID": "28",
                                    "TotalSales": "775.20"
                                },
                                {
                                    "CustomerID": "ALFKI",
                                    "ProductID": "39",
                                    "TotalSales": "378.00"
                                },
                                {
                                    "CustomerID": "ALFKI",
                                    "ProductID": "46",
                                    "TotalSales": "24.00"
                                },
                                {
                                    "CustomerID": "ALFKI",
                                    "ProductID": "58",
                                    "TotalSales": "530.00"
                                },
                                {
                                    "CustomerID": "ALFKI",
                                    "ProductID": "59",
                                    "TotalSales": "825.00"
                                },
                                {
                                    "CustomerID": "ALFKI",
                                    "ProductID": "63",
                                    "TotalSales": "878.00"
                                },
                                {
                                    "CustomerID": "ALFKI",
                                    "ProductID": "71",
                                    "TotalSales": "430.00"
                                },
                                {
                                    "CustomerID": "ALFKI",
                                    "ProductID": "76",
                                    "TotalSales": "270.00"
                                },
                                {
                                    "CustomerID": "ALFKI",
                                    "ProductID": "77",
                                    "TotalSales": "26.00"
                                },
                                {
                                    "CustomerID": "ALFKI",
                                    "ProductID": "Subtotal",
                                    "TotalSales": "4596.20"
                                },
                                {
                                    "CustomerID": "ANATR",
                                    "ProductID": "11",
                                    "TotalSales": "42.00"
                                },
                                {
                                    "CustomerID": "ANATR",
                                    "ProductID": "13",
                                    "TotalSales": "60.00"
                                },
                                {
                                    "CustomerID": "ANATR",
                                    "ProductID": "14",
                                    "TotalSales": "69.75"
                                },
                                {
                                    "CustomerID": "ANATR",
                                    "ProductID": "19",
                                    "TotalSales": "64.40"
                                },
                                {
                                    "CustomerID": "ANATR",
                                    "ProductID": "32",
                                    "TotalSales": "320.00"
                                },
                                {
                                    "CustomerID": "ANATR",
                                    "ProductID": "42",
                                    "TotalSales": "70.00"
                                },
                                {
                                    "CustomerID": "ANATR",
                                    "ProductID": "60",
                                    "TotalSales": "340.00"
                                },
                                {
                                    "CustomerID": "ANATR",
                                    "ProductID": "69",
                                    "TotalSales": "28.80"
                                },
                                {
                                    "CustomerID": "ANATR",
                                    "ProductID": "70",
                                    "TotalSales": "60.00"
                                },
                                {
                                    "CustomerID": "ANATR",
                                    "ProductID": "72",
                                    "TotalSales": "348.00"
                                },
                                {
                                    "CustomerID": "ANATR",
                                    "ProductID": "Subtotal",
                                    "TotalSales": "1402.95"
                                },
                                {
                                    "CustomerID": "Selected Customers",
                                    "ProductID": "Grand Total",
                                    "TotalSales": "5999.15"
                                }
                            ]
                        },
                        "text/html": "<table><tr><th>CustomerID</th><th>ProductID</th><th>TotalSales</th></tr><tr><td>ALFKI</td><td>3</td><td>60.00</td></tr><tr><td>ALFKI</td><td>6</td><td>400.00</td></tr><tr><td>ALFKI</td><td>28</td><td>775.20</td></tr><tr><td>ALFKI</td><td>39</td><td>378.00</td></tr><tr><td>ALFKI</td><td>46</td><td>24.00</td></tr><tr><td>ALFKI</td><td>58</td><td>530.00</td></tr><tr><td>ALFKI</td><td>59</td><td>825.00</td></tr><tr><td>ALFKI</td><td>63</td><td>878.00</td></tr><tr><td>ALFKI</td><td>71</td><td>430.00</td></tr><tr><td>ALFKI</td><td>76</td><td>270.00</td></tr><tr><td>ALFKI</td><td>77</td><td>26.00</td></tr><tr><td>ALFKI</td><td>Subtotal</td><td>4596.20</td></tr><tr><td>ANATR</td><td>11</td><td>42.00</td></tr><tr><td>ANATR</td><td>13</td><td>60.00</td></tr><tr><td>ANATR</td><td>14</td><td>69.75</td></tr><tr><td>ANATR</td><td>19</td><td>64.40</td></tr><tr><td>ANATR</td><td>32</td><td>320.00</td></tr><tr><td>ANATR</td><td>42</td><td>70.00</td></tr><tr><td>ANATR</td><td>60</td><td>340.00</td></tr><tr><td>ANATR</td><td>69</td><td>28.80</td></tr><tr><td>ANATR</td><td>70</td><td>60.00</td></tr><tr><td>ANATR</td><td>72</td><td>348.00</td></tr><tr><td>ANATR</td><td>Subtotal</td><td>1402.95</td></tr><tr><td>Selected Customers</td><td>Grand Total</td><td>5999.15</td></tr></table>"
                    },
                    "metadata": {}
                }
            ],
            "execution_count": 13
        },
        {
            "cell_type": "markdown",
            "source": [
                "## 🗃️ **String Functions**\r\n",
                "Used to modify text data and can help with standardizing or data cleaning."
            ],
            "metadata": {
                "azdata_cell_guid": "e847e8cb-cb3d-4f26-bf06-33930acf1ac5"
            },
            "attachments": {}
        },
        {
            "cell_type": "markdown",
            "source": [
                "## **📍10. Use CONCAT to combine Strings.**\n",
                "\n",
                "📝 `CONCAT` combines multiple strings into one, which is useful for creating composite values like full names or addresses.  \n",
                "⚙️ Combine _FirstName_ and _LastName_ to create full names from _Employees_ table.\n",
                "\n",
                "🖥️    \n",
                "SELECT CONCAT(FirstName, ' ', LastName) AS FullName  \n",
                "FROM Employees;\n",
                "\n",
                "🚫 `CONCAT` will return `NULL` if any argument is `NULL`."
            ],
            "metadata": {
                "azdata_cell_guid": "262ac454-ffe0-4f66-9a68-bd1c5ba6ce6e"
            },
            "attachments": {}
        },
        {
            "cell_type": "code",
            "source": [
                "SELECT CONCAT(FirstName, ' ', LastName) AS FullName\r\n",
                "FROM Employees;"
            ],
            "metadata": {
                "azdata_cell_guid": "14d03382-9546-434d-9813-7ca454bbe601",
                "language": "sql"
            },
            "outputs": [
                {
                    "output_type": "display_data",
                    "data": {
                        "text/html": "(9 rows affected)"
                    },
                    "metadata": {}
                },
                {
                    "output_type": "display_data",
                    "data": {
                        "text/html": "Total execution time: 00:00:00.008"
                    },
                    "metadata": {}
                },
                {
                    "output_type": "execute_result",
                    "execution_count": 14,
                    "data": {
                        "application/vnd.dataresource+json": {
                            "schema": {
                                "fields": [
                                    {
                                        "name": "FullName"
                                    }
                                ]
                            },
                            "data": [
                                {
                                    "FullName": "Nancy Davolio"
                                },
                                {
                                    "FullName": "Andrew Fuller"
                                },
                                {
                                    "FullName": "Janet Leverling"
                                },
                                {
                                    "FullName": "Margaret Peacock"
                                },
                                {
                                    "FullName": "Steven Buchanan"
                                },
                                {
                                    "FullName": "Michael Suyama"
                                },
                                {
                                    "FullName": "Robert King"
                                },
                                {
                                    "FullName": "Laura Callahan"
                                },
                                {
                                    "FullName": "Anne Dodsworth"
                                }
                            ]
                        },
                        "text/html": "<table><tr><th>FullName</th></tr><tr><td>Nancy Davolio</td></tr><tr><td>Andrew Fuller</td></tr><tr><td>Janet Leverling</td></tr><tr><td>Margaret Peacock</td></tr><tr><td>Steven Buchanan</td></tr><tr><td>Michael Suyama</td></tr><tr><td>Robert King</td></tr><tr><td>Laura Callahan</td></tr><tr><td>Anne Dodsworth</td></tr></table>"
                    },
                    "metadata": {}
                }
            ],
            "execution_count": 14
        },
        {
            "cell_type": "markdown",
            "source": [
                "## **📍11. Use UPPER to convert text to uppercase.**\n",
                "\n",
                "📝 `UPPER` converts text into uppercase for consistent formatting.   \n",
                "⚙️ Display customer names in uppercase.  \n",
                "\n",
                "🖥️    \n",
                "SELECT TOP 5 UPPER(ContactName) AS UpperCaseName  \n",
                "FROM Customers;  \n",
                "\n",
                "🚫 `Only affects alphabetic characters."
            ],
            "metadata": {
                "azdata_cell_guid": "25543c78-8a8d-4999-bcd4-b864b7da3cbb"
            },
            "attachments": {}
        },
        {
            "cell_type": "code",
            "source": [
                "SELECT TOP 5 UPPER(ContactName) AS UpperCaseName\r\n",
                "FROM Customers;"
            ],
            "metadata": {
                "azdata_cell_guid": "56d6a366-d878-4b8e-b9d7-19edd04a9100",
                "language": "sql"
            },
            "outputs": [
                {
                    "output_type": "display_data",
                    "data": {
                        "text/html": "(5 rows affected)"
                    },
                    "metadata": {}
                },
                {
                    "output_type": "display_data",
                    "data": {
                        "text/html": "Total execution time: 00:00:00.016"
                    },
                    "metadata": {}
                },
                {
                    "output_type": "execute_result",
                    "execution_count": 31,
                    "data": {
                        "application/vnd.dataresource+json": {
                            "schema": {
                                "fields": [
                                    {
                                        "name": "UpperCaseName"
                                    }
                                ]
                            },
                            "data": [
                                {
                                    "UpperCaseName": "MARIA ANDERS"
                                },
                                {
                                    "UpperCaseName": "ANA TRUJILLO"
                                },
                                {
                                    "UpperCaseName": "ANTONIO MORENO"
                                },
                                {
                                    "UpperCaseName": "THOMAS HARDY"
                                },
                                {
                                    "UpperCaseName": "CHRISTINA BERGLUND"
                                }
                            ]
                        },
                        "text/html": "<table><tr><th>UpperCaseName</th></tr><tr><td>MARIA ANDERS</td></tr><tr><td>ANA TRUJILLO</td></tr><tr><td>ANTONIO MORENO</td></tr><tr><td>THOMAS HARDY</td></tr><tr><td>CHRISTINA BERGLUND</td></tr></table>"
                    },
                    "metadata": {}
                }
            ],
            "execution_count": 31
        },
        {
            "cell_type": "markdown",
            "source": [
                "## **📍12. Use LOWER to convert text to lowercase.**\n",
                "\n",
                "📝 `LOWER` converts text to lowercase for consisting formatting also.  \n",
                "⚙️ Convert product names to lowercase.\n",
                "\n",
                "🖥️   \n",
                "SELECT TOP 5 LOWER(ProductName) AS LowerCaseProductName   \n",
                "FROM Products;  \n",
                "\n",
                "🚫 Only affects alphabetic characters."
            ],
            "metadata": {
                "azdata_cell_guid": "a4dcc524-c4c4-4ad5-90d7-c0db70bb83b3"
            },
            "attachments": {}
        },
        {
            "cell_type": "code",
            "source": [
                "SELECT TOP 5 LOWER(ProductName) AS LowerCaseProductName\r\n",
                "FROM Products;"
            ],
            "metadata": {
                "azdata_cell_guid": "c7647327-5817-4fb2-b573-003ee564ebbb",
                "language": "sql"
            },
            "outputs": [
                {
                    "output_type": "display_data",
                    "data": {
                        "text/html": "(5 rows affected)"
                    },
                    "metadata": {}
                },
                {
                    "output_type": "display_data",
                    "data": {
                        "text/html": "Total execution time: 00:00:00.007"
                    },
                    "metadata": {}
                },
                {
                    "output_type": "execute_result",
                    "execution_count": 15,
                    "data": {
                        "application/vnd.dataresource+json": {
                            "schema": {
                                "fields": [
                                    {
                                        "name": "LowerCaseProductName"
                                    }
                                ]
                            },
                            "data": [
                                {
                                    "LowerCaseProductName": "chai"
                                },
                                {
                                    "LowerCaseProductName": "chang"
                                },
                                {
                                    "LowerCaseProductName": "aniseed syrup"
                                },
                                {
                                    "LowerCaseProductName": "chef anton's cajun seasoning"
                                },
                                {
                                    "LowerCaseProductName": "chef anton's gumbo mix"
                                }
                            ]
                        },
                        "text/html": "<table><tr><th>LowerCaseProductName</th></tr><tr><td>chai</td></tr><tr><td>chang</td></tr><tr><td>aniseed syrup</td></tr><tr><td>chef anton&#39;s cajun seasoning</td></tr><tr><td>chef anton&#39;s gumbo mix</td></tr></table>"
                    },
                    "metadata": {}
                }
            ],
            "execution_count": 15
        },
        {
            "cell_type": "markdown",
            "source": [
                "## **📍13. Use REPLACE to substitute part of a String.**\n",
                "\n",
                "📝 `REPLACE` substitutes occurrences of a specified substring with another, useful for cleaning data or standardization.  \n",
                "⚙️ Replace _Ltd._ in company names with _Limited_.\n",
                "\n",
                "🖥️   \n",
                "SELECT REPLACE(CompanyName, 'Ltd.', 'Limited') AS CompanyName  \n",
                "FROM Suppliers  \n",
                "WHERE CompanyName LIKE '%Ltd.%';\n",
                "\n",
                "🚫 `REPLACE` is case-sensitive."
            ],
            "metadata": {
                "azdata_cell_guid": "f8178ce9-2de4-4f76-b7d1-3e5014d59537"
            },
            "attachments": {}
        },
        {
            "cell_type": "code",
            "source": [
                "SELECT REPLACE(CompanyName, 'Ltd.', 'Limited') AS CompanyName\r\n",
                "FROM Suppliers\r\n",
                "WHERE CompanyName LIKE '%Ltd.%';"
            ],
            "metadata": {
                "azdata_cell_guid": "ca087bae-e548-493f-a0ce-aa2da2a4a523",
                "language": "sql"
            },
            "outputs": [
                {
                    "output_type": "display_data",
                    "data": {
                        "text/html": "(2 rows affected)"
                    },
                    "metadata": {}
                },
                {
                    "output_type": "display_data",
                    "data": {
                        "text/html": "Total execution time: 00:00:00.007"
                    },
                    "metadata": {}
                },
                {
                    "output_type": "execute_result",
                    "execution_count": 16,
                    "data": {
                        "application/vnd.dataresource+json": {
                            "schema": {
                                "fields": [
                                    {
                                        "name": "CompanyName"
                                    }
                                ]
                            },
                            "data": [
                                {
                                    "CompanyName": "Pavlova, Limited"
                                },
                                {
                                    "CompanyName": "Specialty Biscuits, Limited"
                                }
                            ]
                        },
                        "text/html": "<table><tr><th>CompanyName</th></tr><tr><td>Pavlova, Limited</td></tr><tr><td>Specialty Biscuits, Limited</td></tr></table>"
                    },
                    "metadata": {}
                }
            ],
            "execution_count": 16
        },
        {
            "cell_type": "markdown",
            "source": [
                "## **📍14. Use TRIM to remove leading and trailing spaces.**\n",
                "\n",
                "📝 `TRIM` removes unnecessary spaces, making it helpful for data cleaning.  \n",
                "⚙️ Trim any spaces from employee names.\n",
                "\n",
                "🖥️  \n",
                "SELECT TRIM(FirstName) AS TrimFirstName   \n",
                "FROM Employees;   \n",
                "\n",
                "🚫 Only removes spaces, not other whitespace characters like tabs."
            ],
            "metadata": {
                "azdata_cell_guid": "f07e5dd1-d394-437d-9ee1-43910312f860"
            },
            "attachments": {}
        },
        {
            "cell_type": "code",
            "source": [
                "SELECT TRIM(FirstName) AS TrimFirstName\r\n",
                "FROM Employees;"
            ],
            "metadata": {
                "azdata_cell_guid": "11b9b570-abee-418c-a32d-2ba0ccce2dbe",
                "language": "sql"
            },
            "outputs": [
                {
                    "output_type": "display_data",
                    "data": {
                        "text/html": "(9 rows affected)"
                    },
                    "metadata": {}
                },
                {
                    "output_type": "display_data",
                    "data": {
                        "text/html": "Total execution time: 00:00:00.006"
                    },
                    "metadata": {}
                },
                {
                    "output_type": "execute_result",
                    "execution_count": 17,
                    "data": {
                        "application/vnd.dataresource+json": {
                            "schema": {
                                "fields": [
                                    {
                                        "name": "TrimFirstName"
                                    }
                                ]
                            },
                            "data": [
                                {
                                    "TrimFirstName": "Nancy"
                                },
                                {
                                    "TrimFirstName": "Andrew"
                                },
                                {
                                    "TrimFirstName": "Janet"
                                },
                                {
                                    "TrimFirstName": "Margaret"
                                },
                                {
                                    "TrimFirstName": "Steven"
                                },
                                {
                                    "TrimFirstName": "Michael"
                                },
                                {
                                    "TrimFirstName": "Robert"
                                },
                                {
                                    "TrimFirstName": "Laura"
                                },
                                {
                                    "TrimFirstName": "Anne"
                                }
                            ]
                        },
                        "text/html": "<table><tr><th>TrimFirstName</th></tr><tr><td>Nancy</td></tr><tr><td>Andrew</td></tr><tr><td>Janet</td></tr><tr><td>Margaret</td></tr><tr><td>Steven</td></tr><tr><td>Michael</td></tr><tr><td>Robert</td></tr><tr><td>Laura</td></tr><tr><td>Anne</td></tr></table>"
                    },
                    "metadata": {}
                }
            ],
            "execution_count": 17
        },
        {
            "cell_type": "markdown",
            "source": [
                "## **📍15. Use SUBSTRING to extract part of a string.**\n",
                "\n",
                "📝 `SUBSTRING` extracts a part of a string, which is useful for extracting specific portions like area codes from phone numbers or postal codes.  \n",
                "⚙️ Extract the first 5 characters of postal codes.  \n",
                "\n",
                "🖥️   \n",
                "SELECT SUBSTRING(PostalCode, 1, 5) AS ShortPostalCode  \n",
                "FROM Customers;  \n",
                "  \n",
                "🚫 Only returns a fixed length of characters, which may need adjusting for varying string lengths."
            ],
            "metadata": {
                "azdata_cell_guid": "5bf5ea44-4f77-4aa3-8cdc-e20b948d03a5"
            },
            "attachments": {}
        },
        {
            "cell_type": "code",
            "source": [
                "SELECT TOP 5 SUBSTRING(PostalCode, 1, 5) AS ShortPostalCode\r\n",
                "FROM Customers;"
            ],
            "metadata": {
                "azdata_cell_guid": "66a69ba4-d05c-433e-8c52-0ce6ac6d12b6",
                "language": "sql",
                "tags": []
            },
            "outputs": [
                {
                    "output_type": "display_data",
                    "data": {
                        "text/html": "(5 rows affected)"
                    },
                    "metadata": {}
                },
                {
                    "output_type": "display_data",
                    "data": {
                        "text/html": "Total execution time: 00:00:00.011"
                    },
                    "metadata": {}
                },
                {
                    "output_type": "execute_result",
                    "execution_count": 19,
                    "data": {
                        "application/vnd.dataresource+json": {
                            "schema": {
                                "fields": [
                                    {
                                        "name": "ShortPostalCode"
                                    }
                                ]
                            },
                            "data": [
                                {
                                    "ShortPostalCode": "12209"
                                },
                                {
                                    "ShortPostalCode": "05021"
                                },
                                {
                                    "ShortPostalCode": "05023"
                                },
                                {
                                    "ShortPostalCode": "WA1 1"
                                },
                                {
                                    "ShortPostalCode": "S-958"
                                }
                            ]
                        },
                        "text/html": "<table><tr><th>ShortPostalCode</th></tr><tr><td>12209</td></tr><tr><td>05021</td></tr><tr><td>05023</td></tr><tr><td>WA1 1</td></tr><tr><td>S-958</td></tr></table>"
                    },
                    "metadata": {}
                }
            ],
            "execution_count": 19
        },
        {
            "cell_type": "markdown",
            "source": [
                "## **📍16. Use LEFT to extract the leftmost characters of a string.**\n",
                "\n",
                "📝 `LEFT` extracts a specified number of characters from the start of a string, useful for isolating prefixes or partial data.   \n",
                "⚙️ Show the first 3 letters of each product name.  \n",
                "\n",
                "🖥️  \n",
                "SELECT TOP 5 ProductName,  \n",
                "    LEFT(ProductName, 3) AS ProductPrefix  \n",
                "FROM Products;\n",
                "\n",
                "🚫 Only extracts a fixed number of characters from the left, which may need adjusting for varying string lengths."
            ],
            "metadata": {
                "azdata_cell_guid": "761402a6-65ff-44ae-9f04-50df24c683d0"
            },
            "attachments": {}
        },
        {
            "cell_type": "code",
            "source": [
                "SELECT TOP 5 ProductName,\r\n",
                "\tLEFT(ProductName, 3) AS ProductPrefix\r\n",
                "FROM Products;"
            ],
            "metadata": {
                "azdata_cell_guid": "57137d6d-92ce-488a-953a-d78c539ed647",
                "language": "sql"
            },
            "outputs": [
                {
                    "output_type": "display_data",
                    "data": {
                        "text/html": "(5 rows affected)"
                    },
                    "metadata": {}
                },
                {
                    "output_type": "display_data",
                    "data": {
                        "text/html": "Total execution time: 00:00:00.008"
                    },
                    "metadata": {}
                },
                {
                    "output_type": "execute_result",
                    "execution_count": 22,
                    "data": {
                        "application/vnd.dataresource+json": {
                            "schema": {
                                "fields": [
                                    {
                                        "name": "ProductName"
                                    },
                                    {
                                        "name": "ProductPrefix"
                                    }
                                ]
                            },
                            "data": [
                                {
                                    "ProductName": "Chai",
                                    "ProductPrefix": "Cha"
                                },
                                {
                                    "ProductName": "Chang",
                                    "ProductPrefix": "Cha"
                                },
                                {
                                    "ProductName": "Aniseed Syrup",
                                    "ProductPrefix": "Ani"
                                },
                                {
                                    "ProductName": "Chef Anton's Cajun Seasoning",
                                    "ProductPrefix": "Che"
                                },
                                {
                                    "ProductName": "Chef Anton's Gumbo Mix",
                                    "ProductPrefix": "Che"
                                }
                            ]
                        },
                        "text/html": "<table><tr><th>ProductName</th><th>ProductPrefix</th></tr><tr><td>Chai</td><td>Cha</td></tr><tr><td>Chang</td><td>Cha</td></tr><tr><td>Aniseed Syrup</td><td>Ani</td></tr><tr><td>Chef Anton&#39;s Cajun Seasoning</td><td>Che</td></tr><tr><td>Chef Anton&#39;s Gumbo Mix</td><td>Che</td></tr></table>"
                    },
                    "metadata": {}
                }
            ],
            "execution_count": 22
        },
        {
            "cell_type": "markdown",
            "source": [
                "## **📍17. Use RIGHT to extract the rightmost characters of a string.**\r\n",
                "\r\n",
                "📝 `RIGHT` extracts characters from the end of a string, useful for suffixes, codes, or last few digits.     \r\n",
                "⚙️ Show the last 3 digits of each employee’s postal code for them to use as temporary pins.\r\n",
                "\r\n",
                "🖥️  \r\n",
                "SELECT EmployeeID,  \r\n",
                "    RIGHT(PostalCode, 3) AS PostalSuffix  \r\n",
                "FROM Employees;  \r\n",
                "\r\n",
                "🚫 Only extracts a fixed number of characters from the right, which may need adjusting for varying string lengths."
            ],
            "metadata": {
                "language": "sql",
                "azdata_cell_guid": "1740d1fd-7eef-42e3-b0c7-12a0246a6269"
            },
            "attachments": {}
        },
        {
            "cell_type": "code",
            "source": [
                "SELECT EmployeeID,\r\n",
                "\tRIGHT(PostalCode, 3) AS PostalSuffix\r\n",
                "FROM Employees;"
            ],
            "metadata": {
                "language": "sql",
                "azdata_cell_guid": "b21a6361-cb5f-48fb-b965-3fa26df3d938"
            },
            "outputs": [
                {
                    "output_type": "display_data",
                    "data": {
                        "text/html": "(9 rows affected)"
                    },
                    "metadata": {}
                },
                {
                    "output_type": "display_data",
                    "data": {
                        "text/html": "Total execution time: 00:00:00.007"
                    },
                    "metadata": {}
                },
                {
                    "output_type": "execute_result",
                    "execution_count": 23,
                    "data": {
                        "application/vnd.dataresource+json": {
                            "schema": {
                                "fields": [
                                    {
                                        "name": "EmployeeID"
                                    },
                                    {
                                        "name": "PostalSuffix"
                                    }
                                ]
                            },
                            "data": [
                                {
                                    "EmployeeID": "1",
                                    "PostalSuffix": "122"
                                },
                                {
                                    "EmployeeID": "2",
                                    "PostalSuffix": "401"
                                },
                                {
                                    "EmployeeID": "3",
                                    "PostalSuffix": "033"
                                },
                                {
                                    "EmployeeID": "4",
                                    "PostalSuffix": "052"
                                },
                                {
                                    "EmployeeID": "5",
                                    "PostalSuffix": "8JR"
                                },
                                {
                                    "EmployeeID": "6",
                                    "PostalSuffix": "7JR"
                                },
                                {
                                    "EmployeeID": "7",
                                    "PostalSuffix": "9SP"
                                },
                                {
                                    "EmployeeID": "8",
                                    "PostalSuffix": "105"
                                },
                                {
                                    "EmployeeID": "9",
                                    "PostalSuffix": "7LT"
                                }
                            ]
                        },
                        "text/html": "<table><tr><th>EmployeeID</th><th>PostalSuffix</th></tr><tr><td>1</td><td>122</td></tr><tr><td>2</td><td>401</td></tr><tr><td>3</td><td>033</td></tr><tr><td>4</td><td>052</td></tr><tr><td>5</td><td>8JR</td></tr><tr><td>6</td><td>7JR</td></tr><tr><td>7</td><td>9SP</td></tr><tr><td>8</td><td>105</td></tr><tr><td>9</td><td>7LT</td></tr></table>"
                    },
                    "metadata": {}
                }
            ],
            "execution_count": 23
        },
        {
            "cell_type": "markdown",
            "source": [
                "## 🗃️ **Mathematical Functions**\r\n",
                "Used to perform calculations and operations on numerical data within a SQL query."
            ],
            "metadata": {
                "azdata_cell_guid": "850a0e66-3c95-4516-b6a0-2e1a1f4fa0d6"
            },
            "attachments": {}
        },
        {
            "cell_type": "markdown",
            "source": [
                "## **📍18. Use ROUND to adjust deicimal precison.**\r\n",
                "\r\n",
                "📝 `ROUND` sets the decimal precision of numeric values, helpful for displaying currency or other precise values.  \r\n",
                "⚙️ Round product prices to two decimal places.  \r\n",
                "\r\n",
                "🖥️   \r\n",
                "SELECT TOP 5 ROUND(UnitPrice, 2) AS RoundedPrice  \r\n",
                "FROM Products;  \r\n",
                "  \r\n",
                "🚫 Could lead to a loss of precision for exact calculations."
            ],
            "metadata": {
                "azdata_cell_guid": "a4df3be1-84bd-41a3-aa89-7950a876180b"
            },
            "attachments": {}
        },
        {
            "cell_type": "code",
            "source": [
                "SELECT TOP 5 ROUND(UnitPrice, 2) AS RoundedPrice\r\n",
                "FROM Products;"
            ],
            "metadata": {
                "azdata_cell_guid": "75b59a68-5a12-45a5-b365-e2ec2020ffa1",
                "language": "sql"
            },
            "outputs": [
                {
                    "output_type": "display_data",
                    "data": {
                        "text/html": "(5 rows affected)"
                    },
                    "metadata": {}
                },
                {
                    "output_type": "display_data",
                    "data": {
                        "text/html": "Total execution time: 00:00:00.019"
                    },
                    "metadata": {}
                },
                {
                    "output_type": "execute_result",
                    "execution_count": 20,
                    "data": {
                        "application/vnd.dataresource+json": {
                            "schema": {
                                "fields": [
                                    {
                                        "name": "RoundedPrice"
                                    }
                                ]
                            },
                            "data": [
                                {
                                    "RoundedPrice": "18.00"
                                },
                                {
                                    "RoundedPrice": "19.00"
                                },
                                {
                                    "RoundedPrice": "10.00"
                                },
                                {
                                    "RoundedPrice": "22.00"
                                },
                                {
                                    "RoundedPrice": "21.35"
                                }
                            ]
                        },
                        "text/html": "<table><tr><th>RoundedPrice</th></tr><tr><td>18.00</td></tr><tr><td>19.00</td></tr><tr><td>10.00</td></tr><tr><td>22.00</td></tr><tr><td>21.35</td></tr></table>"
                    },
                    "metadata": {}
                }
            ],
            "execution_count": 20
        },
        {
            "cell_type": "markdown",
            "source": [
                "## **📍19. Use CHECKSUM for data integrity checks.**\r\n",
                "\r\n",
                "📝 `CHECKSUM` generates a hash value (acts as a fingerprint) for a row or column, which is useful for detecting changes in data or verifying data integrity.  \r\n",
                "⚙️ Track changes in the _Orders_ table by generating `CHECKSUM` values for each row. \r\n",
                "\r\n",
                "🖥️   \r\n",
                "SELECT TOP 5 OrderID,  \r\n",
                "    CHECKSUM(*) AS RowChecksum  \r\n",
                "FROM Orders;    \r\n",
                "  \r\n",
                "🚫 `CHECKSUM` values may not be unique for all data, so it’s not always suitable for critical integrity checks."
            ],
            "metadata": {
                "azdata_cell_guid": "1e1e86ca-6913-4296-8063-14cdf6e5a2a8"
            },
            "attachments": {}
        },
        {
            "cell_type": "code",
            "source": [
                "SELECT TOP 5 OrderID,\r\n",
                "\tCHECKSUM(*) AS RowChecksum\r\n",
                "FROM Orders;"
            ],
            "metadata": {
                "azdata_cell_guid": "a1f6c34c-9f40-42fd-b0fe-c5ebf1e139b6",
                "language": "sql"
            },
            "outputs": [
                {
                    "output_type": "display_data",
                    "data": {
                        "text/html": "(5 rows affected)"
                    },
                    "metadata": {}
                },
                {
                    "output_type": "display_data",
                    "data": {
                        "text/html": "Total execution time: 00:00:00.007"
                    },
                    "metadata": {}
                },
                {
                    "output_type": "execute_result",
                    "execution_count": 21,
                    "data": {
                        "application/vnd.dataresource+json": {
                            "schema": {
                                "fields": [
                                    {
                                        "name": "OrderID"
                                    },
                                    {
                                        "name": "RowChecksum"
                                    }
                                ]
                            },
                            "data": [
                                {
                                    "OrderID": "10248",
                                    "RowChecksum": "-548360815"
                                },
                                {
                                    "OrderID": "10249",
                                    "RowChecksum": "423381171"
                                },
                                {
                                    "OrderID": "10250",
                                    "RowChecksum": "-179432955"
                                },
                                {
                                    "OrderID": "10251",
                                    "RowChecksum": "-689489561"
                                },
                                {
                                    "OrderID": "10252",
                                    "RowChecksum": "-337808960"
                                }
                            ]
                        },
                        "text/html": "<table><tr><th>OrderID</th><th>RowChecksum</th></tr><tr><td>10248</td><td>-548360815</td></tr><tr><td>10249</td><td>423381171</td></tr><tr><td>10250</td><td>-179432955</td></tr><tr><td>10251</td><td>-689489561</td></tr><tr><td>10252</td><td>-337808960</td></tr></table>"
                    },
                    "metadata": {}
                }
            ],
            "execution_count": 21
        },
        {
            "cell_type": "markdown",
            "source": [
                "## 🗃️ **Join and Set Operations**\r\n",
                "Allow combining data from multiple tables or comparing datasets to find common or distinct values. These operations are essential for creating comprehensive views across related data."
            ],
            "metadata": {
                "azdata_cell_guid": "d2f0d4b5-7982-4cd8-a4d5-5c865c584cc7"
            },
            "attachments": {}
        },
        {
            "cell_type": "markdown",
            "source": [
                "## **📍20. Use EXCEPT to find non-mathcing records.**\r\n",
                "\r\n",
                "📝 `EXCEPT` returns records from the first query that are not in the second query, and can be useful for comparison.  \r\n",
                "⚙️ Show customers with no orders. \r\n",
                "\r\n",
                "🖥️   \r\n",
                "SELECT CustomerID  \r\n",
                "FROM Customers  \r\n",
                "EXCEPT  \r\n",
                "SELECT CustomerID  \r\n",
                "FROM Orders;    \r\n",
                "  \r\n",
                "🚫 Not all SQL databases support `EXCEPT`; an alternative could be to use `NOT IN`."
            ],
            "metadata": {
                "azdata_cell_guid": "4d89aa65-22ef-4f36-b450-82a45fe3b868"
            },
            "attachments": {}
        },
        {
            "cell_type": "code",
            "source": [
                "SELECT CustomerID\r\n",
                "FROM Customers\r\n",
                "EXCEPT\r\n",
                "SELECT CustomerID\r\n",
                "FROM Orders;"
            ],
            "metadata": {
                "azdata_cell_guid": "6f9e97b0-51b6-4810-85cb-5bf0829cc247",
                "language": "sql"
            },
            "outputs": [
                {
                    "output_type": "display_data",
                    "data": {
                        "text/html": "(2 rows affected)"
                    },
                    "metadata": {}
                },
                {
                    "output_type": "display_data",
                    "data": {
                        "text/html": "Total execution time: 00:00:00.018"
                    },
                    "metadata": {}
                },
                {
                    "output_type": "execute_result",
                    "execution_count": 24,
                    "data": {
                        "application/vnd.dataresource+json": {
                            "schema": {
                                "fields": [
                                    {
                                        "name": "CustomerID"
                                    }
                                ]
                            },
                            "data": [
                                {
                                    "CustomerID": "FISSA"
                                },
                                {
                                    "CustomerID": "PARIS"
                                }
                            ]
                        },
                        "text/html": "<table><tr><th>CustomerID</th></tr><tr><td>FISSA</td></tr><tr><td>PARIS</td></tr></table>"
                    },
                    "metadata": {}
                }
            ],
            "execution_count": 24
        },
        {
            "cell_type": "markdown",
            "source": [
                "## **📍21. Use INNER JOIN to combine rows based on related columns.**\r\n",
                "\r\n",
                "📝 `INNER JOIN` combines rows from two tables where there is a match in a related column, useful for pulling together related data.  \r\n",
                "⚙️ Retrieve orders with customer names. \r\n",
                "\r\n",
                "🖥️   \r\n",
                "SELECT Top 5 Orders.OrderID,  \r\n",
                "    Customers.ContactName  \r\n",
                "FROM Orders  \r\n",
                "INNER JOIN Customers ON Orders.CustomerID = Customers.CustomerID  \r\n",
                "ORDER BY OrderID;    \r\n",
                "  \r\n",
                "🚫 `INNER JOIN` only includes rows with matches in both tables; unmatched rows are excluded."
            ],
            "metadata": {
                "azdata_cell_guid": "2769608d-2bb0-465b-94a7-bb16888ab55e"
            },
            "attachments": {}
        },
        {
            "cell_type": "code",
            "source": [
                "SELECT Top 5 Orders.OrderID,\r\n",
                "    Customers.ContactName\r\n",
                "FROM Orders\r\n",
                "INNER JOIN Customers ON Orders.CustomerID = Customers.CustomerID\r\n",
                "ORDER BY OrderID;"
            ],
            "metadata": {
                "azdata_cell_guid": "46df47eb-97ff-4b73-9c72-0a250ae1bf25",
                "language": "sql"
            },
            "outputs": [
                {
                    "output_type": "display_data",
                    "data": {
                        "text/html": "(5 rows affected)"
                    },
                    "metadata": {}
                },
                {
                    "output_type": "display_data",
                    "data": {
                        "text/html": "Total execution time: 00:00:00.008"
                    },
                    "metadata": {}
                },
                {
                    "output_type": "execute_result",
                    "execution_count": 26,
                    "data": {
                        "application/vnd.dataresource+json": {
                            "schema": {
                                "fields": [
                                    {
                                        "name": "OrderID"
                                    },
                                    {
                                        "name": "ContactName"
                                    }
                                ]
                            },
                            "data": [
                                {
                                    "OrderID": "10248",
                                    "ContactName": "Paul Henriot"
                                },
                                {
                                    "OrderID": "10249",
                                    "ContactName": "Karin Josephs"
                                },
                                {
                                    "OrderID": "10250",
                                    "ContactName": "Mario Pontes"
                                },
                                {
                                    "OrderID": "10251",
                                    "ContactName": "Mary Saveley"
                                },
                                {
                                    "OrderID": "10252",
                                    "ContactName": "Pascale Cartrain"
                                }
                            ]
                        },
                        "text/html": "<table><tr><th>OrderID</th><th>ContactName</th></tr><tr><td>10248</td><td>Paul Henriot</td></tr><tr><td>10249</td><td>Karin Josephs</td></tr><tr><td>10250</td><td>Mario Pontes</td></tr><tr><td>10251</td><td>Mary Saveley</td></tr><tr><td>10252</td><td>Pascale Cartrain</td></tr></table>"
                    },
                    "metadata": {}
                }
            ],
            "execution_count": 26
        },
        {
            "cell_type": "markdown",
            "source": [
                "## **📍22. Use LEFT JOIN to include all rows from the left table.**\r\n",
                "\r\n",
                "📝 `LEFT JOIN` returns all rows from the left table and matched rows from the right table, showing unmatched rows as `NULLS`, which is helpful for inclusive data analysis.  \r\n",
                "⚙️ Retrieve orders with customer names. \r\n",
                "\r\n",
                "🖥️   \r\n",
                "SELECT Top 5 Orders.OrderID,  \r\n",
                "    Customers.ContactName  \r\n",
                "FROM Orders  \r\n",
                "INNER JOIN Customers ON Orders.CustomerID = Customers.CustomerID  \r\n",
                "ORDER BY OrderID;    \r\n",
                "  \r\n",
                "🚫 `LEFT JOIN` may include nulls for unmatched row."
            ],
            "metadata": {
                "azdata_cell_guid": "7494122b-06d4-43e7-94cf-277b15ba702e"
            },
            "attachments": {}
        },
        {
            "cell_type": "code",
            "source": [
                "SELECT TOP 5 Orders.OrderID,\r\n",
                "    Shippers.CompanyName\r\n",
                "FROM Orders\r\n",
                "LEFT JOIN Shippers ON Orders.ShipVia = Shippers.ShipperID;"
            ],
            "metadata": {
                "azdata_cell_guid": "52b3a4f9-4854-4848-88d8-edf8caacec14",
                "language": "sql"
            },
            "outputs": [
                {
                    "output_type": "display_data",
                    "data": {
                        "text/html": "(5 rows affected)"
                    },
                    "metadata": {}
                },
                {
                    "output_type": "display_data",
                    "data": {
                        "text/html": "Total execution time: 00:00:00.016"
                    },
                    "metadata": {}
                },
                {
                    "output_type": "execute_result",
                    "execution_count": 30,
                    "data": {
                        "application/vnd.dataresource+json": {
                            "schema": {
                                "fields": [
                                    {
                                        "name": "OrderID"
                                    },
                                    {
                                        "name": "CompanyName"
                                    }
                                ]
                            },
                            "data": [
                                {
                                    "OrderID": "10248",
                                    "CompanyName": "Federal Shipping"
                                },
                                {
                                    "OrderID": "10249",
                                    "CompanyName": "Speedy Express"
                                },
                                {
                                    "OrderID": "10250",
                                    "CompanyName": "United Package"
                                },
                                {
                                    "OrderID": "10251",
                                    "CompanyName": "Speedy Express"
                                },
                                {
                                    "OrderID": "10252",
                                    "CompanyName": "United Package"
                                }
                            ]
                        },
                        "text/html": "<table><tr><th>OrderID</th><th>CompanyName</th></tr><tr><td>10248</td><td>Federal Shipping</td></tr><tr><td>10249</td><td>Speedy Express</td></tr><tr><td>10250</td><td>United Package</td></tr><tr><td>10251</td><td>Speedy Express</td></tr><tr><td>10252</td><td>United Package</td></tr></table>"
                    },
                    "metadata": {}
                }
            ],
            "execution_count": 30
        },
        {
            "cell_type": "markdown",
            "source": [
                "## 🗃️ **Data Type Conversion and Conditional Functions**\r\n",
                "Manage data compatibility and apply conditional logic in queries"
            ],
            "metadata": {
                "azdata_cell_guid": "910bd0b7-165f-42df-9637-447e223312ac"
            },
            "attachments": {}
        },
        {
            "cell_type": "markdown",
            "source": [
                "## **📍23. Use CONVERT to change data types.**\r\n",
                "\r\n",
                "📝 `CONVERT` changes a value from one data type to another, which is essential when combining data of different types or formatting data for display..  \r\n",
                "⚙️ Convert the _OrderDate to a different format. \r\n",
                "\r\n",
                "🖥️     \r\n",
                "SELECT TOP 5 OrderID,  \r\n",
                "    CONVERT(varchar, OrderDate, 101) AS FormattedOrderDate  \r\n",
                "FROM Orders;   \r\n",
                "  \r\n",
                "Here is a table of `CONVERT` codes for date formats.\r\n",
                "\r\n",
                "| **Code** | **Format**                      | **Example (Output for `2024-10-30`)**      |\r\n",
                "|----------|---------------------------------|--------------------------------------------|\r\n",
                "| **0**    | Default (mon dd yyyy hh:miAM/PM)| Oct 30 2024 12:00AM                        |\r\n",
                "| **1**    | mm/dd/yy                        | 10/30/24                                   |\r\n",
                "| **2**    | yy.mm.dd                        | 24.10.30                                   |\r\n",
                "| **3**    | dd/mm/yy                        | 30/10/24                                   |\r\n",
                "| **4**    | dd.mm.yy                        | 30.10.24                                   |\r\n",
                "| **5**    | dd-mm-yy                        | 30-10-24                                   |\r\n",
                "| **10**   | mm-dd-yy                        | 10-30-24                                   |\r\n",
                "| **11**   | yy/mm/dd                        | 24/10/30                                   |\r\n",
                "| **12**   | yy.mm.dd                        | 24.10.30                                   |\r\n",
                "| **20**   | yyyy-mm-dd (ISO 8601)           | 2024-10-30                                 |\r\n",
                "| **21**   | yyyy-mm-dd hh:mi:ss.mmm (ODBC)  | 2024-10-30 00:00:00.000                    |\r\n",
                "| **23**   | yyyy-mm-dd                      | 2024-10-30                                 |\r\n",
                "| **101**  | mm/dd/yyyy                      | 10/30/2024                                 |\r\n",
                "| **102**  | yyyy.mm.dd                      | 2024.10.30                                 |\r\n",
                "| **103**  | dd/mm/yyyy                      | 30/10/2024                                 |\r\n",
                "| **104**  | dd.mm.yyyy                      | 30.10.2024                                 |\r\n",
                "| **105**  | dd-mm-yyyy                      | 30-10-2024                                 |\r\n",
                "| **106**  | dd mon yyyy                     | 30 Oct 2024                                |\r\n",
                "| **107**  | mon dd, yyyy                    | Oct 30, 2024                               |\r\n",
                "| **108**  | hh:mi:ss                        | 00:00:00                                   |\r\n",
                "| **110**  | mm-dd-yyyy                      | 10-30-2024                                 |\r\n",
                "| **111**  | yyyy/mm/dd                      | 2024/10/30                                 |\r\n",
                "| **112**  | yyyymmdd                        | 20241030                                   |\r\n",
                "| **113**  | dd mon yyyy hh:mi:ss:mmm        | 30 Oct 2024 00:00:00:000                   |\r\n",
                "| **120**  | yyyy-mm-dd hh:mi:ss (ISO)       | 2024-10-30 00:00:00                        |\r\n",
                "| **121**  | yyyy-mm-dd hh:mi:ss.mmm (ISO)   | 2024-10-30 00:00:00.000                    |\r\n",
                "| **126**  | yyyy-mm-ddThh:mi:ss.mmm (ISO)   | 2024-10-30T00:00:00.000                    |\r\n",
                ""
            ],
            "metadata": {
                "azdata_cell_guid": "f1172e54-2796-4628-9f81-d6fd319571fd"
            },
            "attachments": {}
        },
        {
            "cell_type": "code",
            "source": [
                "SELECT TOP 5 OrderID,\r\n",
                "\tCONVERT(varchar, OrderDate, 101) AS FormattedOrderDate\r\n",
                "FROM Orders;"
            ],
            "metadata": {
                "azdata_cell_guid": "343029f0-b4c3-49e0-8f02-d2cd9170a2fa",
                "language": "sql"
            },
            "outputs": [
                {
                    "output_type": "display_data",
                    "data": {
                        "text/html": "(5 rows affected)"
                    },
                    "metadata": {}
                },
                {
                    "output_type": "display_data",
                    "data": {
                        "text/html": "Total execution time: 00:00:00.008"
                    },
                    "metadata": {}
                },
                {
                    "output_type": "execute_result",
                    "execution_count": 27,
                    "data": {
                        "application/vnd.dataresource+json": {
                            "schema": {
                                "fields": [
                                    {
                                        "name": "OrderID"
                                    },
                                    {
                                        "name": "FormattedOrderDate"
                                    }
                                ]
                            },
                            "data": [
                                {
                                    "OrderID": "10248",
                                    "FormattedOrderDate": "07/04/2021"
                                },
                                {
                                    "OrderID": "10249",
                                    "FormattedOrderDate": "07/05/2021"
                                },
                                {
                                    "OrderID": "10250",
                                    "FormattedOrderDate": "07/08/2021"
                                },
                                {
                                    "OrderID": "10251",
                                    "FormattedOrderDate": "07/08/2021"
                                },
                                {
                                    "OrderID": "10252",
                                    "FormattedOrderDate": "07/09/2021"
                                }
                            ]
                        },
                        "text/html": "<table><tr><th>OrderID</th><th>FormattedOrderDate</th></tr><tr><td>10248</td><td>07/04/2021</td></tr><tr><td>10249</td><td>07/05/2021</td></tr><tr><td>10250</td><td>07/08/2021</td></tr><tr><td>10251</td><td>07/08/2021</td></tr><tr><td>10252</td><td>07/09/2021</td></tr></table>"
                    },
                    "metadata": {}
                }
            ],
            "execution_count": 27
        },
        {
            "cell_type": "markdown",
            "source": [
                "## **📍24. Use CAST to change data types.**\r\n",
                "\r\n",
                "📝 Similarly `CAST` is a function for converting data types with broader compatibilty across databases .  \r\n",
                "⚙️ Convert _UnitPrice_ to an integer for simpler calculations. \r\n",
                "\r\n",
                "🖥️  \r\n",
                "SELECT TOP 5 ProductName,  \r\n",
                "    CAST(UnitPrice AS int) AS RoundedUnitPrice  \r\n",
                "FROM Products; "
            ],
            "metadata": {
                "azdata_cell_guid": "fe48f99a-9c57-407e-8ba2-0ba20581feab"
            },
            "attachments": {}
        },
        {
            "cell_type": "code",
            "source": [
                "SELECT TOP 5 ProductName,\r\n",
                "\tCAST(UnitPrice AS int) AS RoundedUnitPrice\r\n",
                "FROM Products;"
            ],
            "metadata": {
                "azdata_cell_guid": "ff92be51-7304-4313-ba4f-5862a75d2017",
                "language": "sql"
            },
            "outputs": [
                {
                    "output_type": "display_data",
                    "data": {
                        "text/html": "(5 rows affected)"
                    },
                    "metadata": {}
                },
                {
                    "output_type": "display_data",
                    "data": {
                        "text/html": "Total execution time: 00:00:00.008"
                    },
                    "metadata": {}
                },
                {
                    "output_type": "execute_result",
                    "execution_count": 28,
                    "data": {
                        "application/vnd.dataresource+json": {
                            "schema": {
                                "fields": [
                                    {
                                        "name": "ProductName"
                                    },
                                    {
                                        "name": "RoundedUnitPrice"
                                    }
                                ]
                            },
                            "data": [
                                {
                                    "ProductName": "Chai",
                                    "RoundedUnitPrice": "18"
                                },
                                {
                                    "ProductName": "Chang",
                                    "RoundedUnitPrice": "19"
                                },
                                {
                                    "ProductName": "Aniseed Syrup",
                                    "RoundedUnitPrice": "10"
                                },
                                {
                                    "ProductName": "Chef Anton's Cajun Seasoning",
                                    "RoundedUnitPrice": "22"
                                },
                                {
                                    "ProductName": "Chef Anton's Gumbo Mix",
                                    "RoundedUnitPrice": "21"
                                }
                            ]
                        },
                        "text/html": "<table><tr><th>ProductName</th><th>RoundedUnitPrice</th></tr><tr><td>Chai</td><td>18</td></tr><tr><td>Chang</td><td>19</td></tr><tr><td>Aniseed Syrup</td><td>10</td></tr><tr><td>Chef Anton&#39;s Cajun Seasoning</td><td>22</td></tr><tr><td>Chef Anton&#39;s Gumbo Mix</td><td>21</td></tr></table>"
                    },
                    "metadata": {}
                }
            ],
            "execution_count": 28
        },
        {
            "cell_type": "markdown",
            "source": [
                "## **📍25. Use TOP to limit results.**\r\n",
                "\r\n",
                "📝  `TOP` limits the number of rows returned, which is useful for sampling data or improving query performance.  \r\n",
                "⚙️ Get the top 5 most expensive products.  \r\n",
                "\r\n",
                "🖥️   \r\n",
                "SELECT TOP 5 ProductName,   \r\n",
                "    UnitPrice    \r\n",
                "FROM Products   \r\n",
                "ORDER BY UnitPrice DESC;   \r\n",
                "\r\n",
                "🚫 When `TOP` is used without an `ORDER BY` clause, the query could return different rows each time it's run. It's recommended to pair `TOP` with `ORDER BY` to ensure predictable results."
            ],
            "metadata": {
                "azdata_cell_guid": "19459a27-71b5-4ca7-880e-03f0c1fa5039"
            },
            "attachments": {}
        },
        {
            "cell_type": "code",
            "source": [
                "SELECT TOP 5 ProductName,\r\n",
                "\tUnitPrice\r\n",
                "FROM Products\r\n",
                "ORDER BY UnitPrice DESC;"
            ],
            "metadata": {
                "azdata_cell_guid": "45689087-a43f-4d6a-b140-cd6b970f6690",
                "language": "sql"
            },
            "outputs": [
                {
                    "output_type": "display_data",
                    "data": {
                        "text/html": "(5 rows affected)"
                    },
                    "metadata": {}
                },
                {
                    "output_type": "display_data",
                    "data": {
                        "text/html": "Total execution time: 00:00:00.015"
                    },
                    "metadata": {}
                },
                {
                    "output_type": "execute_result",
                    "execution_count": 29,
                    "data": {
                        "application/vnd.dataresource+json": {
                            "schema": {
                                "fields": [
                                    {
                                        "name": "ProductName"
                                    },
                                    {
                                        "name": "UnitPrice"
                                    }
                                ]
                            },
                            "data": [
                                {
                                    "ProductName": "Côte de Blaye",
                                    "UnitPrice": "263.50"
                                },
                                {
                                    "ProductName": "Thüringer Rostbratwurst",
                                    "UnitPrice": "123.79"
                                },
                                {
                                    "ProductName": "Mishi Kobe Niku",
                                    "UnitPrice": "97.00"
                                },
                                {
                                    "ProductName": "Sir Rodney's Marmalade",
                                    "UnitPrice": "81.00"
                                },
                                {
                                    "ProductName": "Carnarvon Tigers",
                                    "UnitPrice": "62.50"
                                }
                            ]
                        },
                        "text/html": "<table><tr><th>ProductName</th><th>UnitPrice</th></tr><tr><td>Côte de Blaye</td><td>263.50</td></tr><tr><td>Thüringer Rostbratwurst</td><td>123.79</td></tr><tr><td>Mishi Kobe Niku</td><td>97.00</td></tr><tr><td>Sir Rodney&#39;s Marmalade</td><td>81.00</td></tr><tr><td>Carnarvon Tigers</td><td>62.50</td></tr></table>"
                    },
                    "metadata": {}
                }
            ],
            "execution_count": 29
        },
        {
            "cell_type": "markdown",
            "source": [
                "_All queries use the Northwind\\_2023 database._\n",
                "\n",
                "_Queries have been modified to return limited results for better readbility. To apply the queries for your own use case, remove the limit from results by removing `TOP 5` from queries that include it._\n",
                "\n",
                "_All emojis in this project are sourced from [emojicopy.com](https:\\emojicopy.com\\)_"
            ],
            "metadata": {
                "azdata_cell_guid": "2b44ff3c-8b23-4506-af19-75c8b91151fc"
            },
            "attachments": {}
        }
    ]
}