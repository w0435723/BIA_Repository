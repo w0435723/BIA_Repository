{
 "cells": [
  {
   "cell_type": "markdown",
   "id": "a17e8678",
   "metadata": {},
   "source": "# 🎯 Employee Engagement Classification (Scikit-learn)"
  },
  {
   "cell_type": "markdown",
   "id": "d7e837f6",
   "metadata": {},
   "source": [
    "## 📘 Introduction\n",
    "This notebook manually recreates the employee engagement classification model using scikit-learn.\n"
   ]
  },
  {
   "metadata": {},
   "cell_type": "markdown",
   "source": [
    "## 📚 Data Dictionary\n",
    "| Feature         | Type        | Description            |\n",
    "|-----------------|-------------|------------------------|\n",
    "| Gender          | Categorical | Employee's gender      |\n",
    "| StartDate       | Date        | Date employee started  |\n",
    "| YearsWorked     | Numeric     | Number of years worked |\n",
    "| Department      | Categorical | Department name        |\n",
    "| Country         | Categorical | Country of work        |\n",
    "| MonthlySalary   | Numeric     | Monthly salary         |\n",
    "| AnnualSalary    | Numeric     | Annual salary          |\n",
    "| JobRate         | Numeric     | Job performance rating |\n",
    "| SickLeaves      | Numeric     | Sick leave days        |\n",
    "| UnpaidLeaves    | Numeric     | Unpaid leave days      |\n",
    "| OvertimeHours   | Numeric     | Overtime hours         |\n",
    "| EngagementLevel | Target      | Low / Medium / High    |\n"
   ],
   "id": "2edfa25d"
  },
  {
   "metadata": {},
   "cell_type": "markdown",
   "source": [
    "### 📊 YData Profiling Summary\n",
    "\n",
    "Before building the model, we used `ydata-profiling` to explore the dataset. The goal is to understand the data, detect missing values, and identify potential patterns or issues.\n",
    "\n",
    "🔍 **Key insights from the profile report:**\n",
    "- The dataset contains **689 observations** and **18 variables**\n",
    "- No missing values or duplicates were found ✅\n",
    "- Some features are highly correlated:\n",
    "  - `MonthlySalary` and `AnnualSalary`\n",
    "  - `Department` and `Department_ID`\n",
    "- `EngagementLevel` is highly imbalanced (85.8% in one class), which justified using SMOTE\n",
    "- Features like `SickLeaves`, `UnpaidLeaves`, and `OvertimeHours` contain many zeros, possibly reflecting real-world absence patterns\n",
    "\n",
    "📄 View the full profiling report here:\n",
    "👉 [Employee Profile Report (HTML)](https://w0435723.github.io/BIA_Repository/Employee_Profile_Report.html)\n",
    "\n",
    "\n"
   ],
   "id": "a4cce250"
  },
  {
   "cell_type": "code",
   "id": "0ed11c8b",
   "metadata": {
    "ExecuteTime": {
     "end_time": "2025-03-31T04:24:55.251566Z",
     "start_time": "2025-03-31T04:24:55.243308Z"
    }
   },
   "source": [
    "# 📥 Load libraries\n",
    "import pandas as pd\n",
    "from sklearn.model_selection import train_test_split\n",
    "from sklearn.ensemble import RandomForestClassifier\n",
    "from sklearn.metrics import accuracy_score, classification_report\n",
    "from sklearn.preprocessing import LabelEncoder\n",
    "from imblearn.over_sampling import SMOTE\n"
   ],
   "outputs": [],
   "execution_count": 11
  },
  {
   "cell_type": "code",
   "id": "17017d45",
   "metadata": {
    "ExecuteTime": {
     "end_time": "2025-03-31T04:24:55.347165Z",
     "start_time": "2025-03-31T04:24:55.335684Z"
    }
   },
   "source": [
    "# 📥 Load dataset\n",
    "\n",
    "df = pd.read_csv(r\"C:\\Users\\19024\\DataScience\\Employees_clean.csv\")"
   ],
   "outputs": [],
   "execution_count": 12
  },
  {
   "metadata": {},
   "cell_type": "markdown",
   "source": [
    "### 📊 Original Class Distribution\n",
    "\n",
    "| Engagement Level | Count |\n",
    "|------------------|-------|\n",
    "| Medium           | 666   |\n",
    "| High             | 21    |\n",
    "| Low              | 2 ❗   |\n",
    "\n",
    "➡️ 'Low' was merged into 'Medium' before training to create a balanced binary classification task: 'Medium' vs. 'High'.\n"
   ],
   "id": "47e4d9d4"
  },
  {
   "cell_type": "code",
   "id": "331a6cd6",
   "metadata": {
    "ExecuteTime": {
     "end_time": "2025-03-31T04:24:55.368943Z",
     "start_time": "2025-03-31T04:24:55.354196Z"
    }
   },
   "source": [
    "# 🛠️ Derive Engagement Level\n",
    "def get_engagement_level(row):\n",
    "    if (row['JobRate'] <= 2) and (row['OvertimeHours'] < 10) and (row['SickLeaves'] >= 5) and (row['UnpaidLeaves'] >= 5):\n",
    "        return 'Low'\n",
    "    elif (row['JobRate'] >= 4) and (row['OvertimeHours'] > 50) and (row['SickLeaves'] <= 1) and (row['UnpaidLeaves'] <= 1):\n",
    "        return 'High'\n",
    "    else:\n",
    "        return 'Medium'\n",
    "\n",
    "df['EngagementLevel'] = df.apply(get_engagement_level, axis=1)\n",
    "df['EngagementLevel'] = df['EngagementLevel'].replace({'Low': 'Medium'})\n"
   ],
   "outputs": [],
   "execution_count": 13
  },
  {
   "cell_type": "markdown",
   "id": "913ed6bd",
   "metadata": {},
   "source": [
    "## 🧾 Engagement Level Setup\n",
    "We applied business logic to create a new column called `EngagementLevel`.  \n",
    "Since the 'Low' class had only 2 records, we merged it into 'Medium' to allow SMOTE to function correctly.\n"
   ]
  },
  {
   "cell_type": "code",
   "id": "0e814226",
   "metadata": {
    "ExecuteTime": {
     "end_time": "2025-03-31T04:24:55.423574Z",
     "start_time": "2025-03-31T04:24:55.410781Z"
    }
   },
   "source": [
    "# 🎯 Encode target and prepare model DataFrame\n",
    "# 0 = High, 1 = Medium\n",
    "le = LabelEncoder()\n",
    "df['EngagementLevel'] = le.fit_transform(df['EngagementLevel'])\n",
    "\n",
    "# Dropping columns not needed for modeling\n",
    "df_model = df.drop(['Performance_ID', 'Employee_ID', 'FirstName', 'LastName', 'StartDate', 'Department_ID', 'Location_ID'], axis=1)\n",
    "\n",
    "# One hot encode categorical variables\n",
    "df_model = pd.get_dummies(df_model, drop_first=True)\n"
   ],
   "outputs": [],
   "execution_count": 14
  },
  {
   "cell_type": "code",
   "id": "1da7543b",
   "metadata": {
    "ExecuteTime": {
     "end_time": "2025-03-31T04:24:55.478600Z",
     "start_time": "2025-03-31T04:24:55.466019Z"
    }
   },
   "source": [
    "# 🔀 Split into train and test sets\n",
    "X = df_model.drop('EngagementLevel', axis=1)\n",
    "y = df_model['EngagementLevel']\n",
    "\n",
    "X_train, X_test, y_train, y_test = train_test_split(X, y, test_size=0.3, random_state=123)\n"
   ],
   "outputs": [],
   "execution_count": 15
  },
  {
   "cell_type": "code",
   "id": "0deb2ed0",
   "metadata": {
    "ExecuteTime": {
     "end_time": "2025-03-31T04:24:55.542523Z",
     "start_time": "2025-03-31T04:24:55.524643Z"
    }
   },
   "source": [
    "# ⚖️ Apply SMOTE to handle imbalance\n",
    "sm = SMOTE(random_state=123)\n",
    "X_resampled, y_resampled = sm.fit_resample(X_train, y_train)\n"
   ],
   "outputs": [],
   "execution_count": 16
  },
  {
   "cell_type": "markdown",
   "id": "39f1faad",
   "metadata": {},
   "source": [
    "## ⚙️ Model Training with SMOTE Data\n",
    "We used SMOTE to balance the training data, then trained a `RandomForestClassifier` on the resampled set.\n"
   ]
  },
  {
   "cell_type": "code",
   "id": "2b920718",
   "metadata": {
    "ExecuteTime": {
     "end_time": "2025-03-31T04:24:55.770766Z",
     "start_time": "2025-03-31T04:24:55.603569Z"
    }
   },
   "source": [
    "# 🧠 Train the model\n",
    "model = RandomForestClassifier(n_estimators=100, max_depth=10, random_state=123)\n",
    "model.fit(X_resampled, y_resampled)\n"
   ],
   "outputs": [
    {
     "data": {
      "text/plain": [
       "RandomForestClassifier(max_depth=10, random_state=123)"
      ],
      "text/html": [
       "<style>#sk-container-id-2 {\n",
       "  /* Definition of color scheme common for light and dark mode */\n",
       "  --sklearn-color-text: black;\n",
       "  --sklearn-color-line: gray;\n",
       "  /* Definition of color scheme for unfitted estimators */\n",
       "  --sklearn-color-unfitted-level-0: #fff5e6;\n",
       "  --sklearn-color-unfitted-level-1: #f6e4d2;\n",
       "  --sklearn-color-unfitted-level-2: #ffe0b3;\n",
       "  --sklearn-color-unfitted-level-3: chocolate;\n",
       "  /* Definition of color scheme for fitted estimators */\n",
       "  --sklearn-color-fitted-level-0: #f0f8ff;\n",
       "  --sklearn-color-fitted-level-1: #d4ebff;\n",
       "  --sklearn-color-fitted-level-2: #b3dbfd;\n",
       "  --sklearn-color-fitted-level-3: cornflowerblue;\n",
       "\n",
       "  /* Specific color for light theme */\n",
       "  --sklearn-color-text-on-default-background: var(--sg-text-color, var(--theme-code-foreground, var(--jp-content-font-color1, black)));\n",
       "  --sklearn-color-background: var(--sg-background-color, var(--theme-background, var(--jp-layout-color0, white)));\n",
       "  --sklearn-color-border-box: var(--sg-text-color, var(--theme-code-foreground, var(--jp-content-font-color1, black)));\n",
       "  --sklearn-color-icon: #696969;\n",
       "\n",
       "  @media (prefers-color-scheme: dark) {\n",
       "    /* Redefinition of color scheme for dark theme */\n",
       "    --sklearn-color-text-on-default-background: var(--sg-text-color, var(--theme-code-foreground, var(--jp-content-font-color1, white)));\n",
       "    --sklearn-color-background: var(--sg-background-color, var(--theme-background, var(--jp-layout-color0, #111)));\n",
       "    --sklearn-color-border-box: var(--sg-text-color, var(--theme-code-foreground, var(--jp-content-font-color1, white)));\n",
       "    --sklearn-color-icon: #878787;\n",
       "  }\n",
       "}\n",
       "\n",
       "#sk-container-id-2 {\n",
       "  color: var(--sklearn-color-text);\n",
       "}\n",
       "\n",
       "#sk-container-id-2 pre {\n",
       "  padding: 0;\n",
       "}\n",
       "\n",
       "#sk-container-id-2 input.sk-hidden--visually {\n",
       "  border: 0;\n",
       "  clip: rect(1px 1px 1px 1px);\n",
       "  clip: rect(1px, 1px, 1px, 1px);\n",
       "  height: 1px;\n",
       "  margin: -1px;\n",
       "  overflow: hidden;\n",
       "  padding: 0;\n",
       "  position: absolute;\n",
       "  width: 1px;\n",
       "}\n",
       "\n",
       "#sk-container-id-2 div.sk-dashed-wrapped {\n",
       "  border: 1px dashed var(--sklearn-color-line);\n",
       "  margin: 0 0.4em 0.5em 0.4em;\n",
       "  box-sizing: border-box;\n",
       "  padding-bottom: 0.4em;\n",
       "  background-color: var(--sklearn-color-background);\n",
       "}\n",
       "\n",
       "#sk-container-id-2 div.sk-container {\n",
       "  /* jupyter's `normalize.less` sets `[hidden] { display: none; }`\n",
       "     but bootstrap.min.css set `[hidden] { display: none !important; }`\n",
       "     so we also need the `!important` here to be able to override the\n",
       "     default hidden behavior on the sphinx rendered scikit-learn.org.\n",
       "     See: https://github.com/scikit-learn/scikit-learn/issues/21755 */\n",
       "  display: inline-block !important;\n",
       "  position: relative;\n",
       "}\n",
       "\n",
       "#sk-container-id-2 div.sk-text-repr-fallback {\n",
       "  display: none;\n",
       "}\n",
       "\n",
       "div.sk-parallel-item,\n",
       "div.sk-serial,\n",
       "div.sk-item {\n",
       "  /* draw centered vertical line to link estimators */\n",
       "  background-image: linear-gradient(var(--sklearn-color-text-on-default-background), var(--sklearn-color-text-on-default-background));\n",
       "  background-size: 2px 100%;\n",
       "  background-repeat: no-repeat;\n",
       "  background-position: center center;\n",
       "}\n",
       "\n",
       "/* Parallel-specific style estimator block */\n",
       "\n",
       "#sk-container-id-2 div.sk-parallel-item::after {\n",
       "  content: \"\";\n",
       "  width: 100%;\n",
       "  border-bottom: 2px solid var(--sklearn-color-text-on-default-background);\n",
       "  flex-grow: 1;\n",
       "}\n",
       "\n",
       "#sk-container-id-2 div.sk-parallel {\n",
       "  display: flex;\n",
       "  align-items: stretch;\n",
       "  justify-content: center;\n",
       "  background-color: var(--sklearn-color-background);\n",
       "  position: relative;\n",
       "}\n",
       "\n",
       "#sk-container-id-2 div.sk-parallel-item {\n",
       "  display: flex;\n",
       "  flex-direction: column;\n",
       "}\n",
       "\n",
       "#sk-container-id-2 div.sk-parallel-item:first-child::after {\n",
       "  align-self: flex-end;\n",
       "  width: 50%;\n",
       "}\n",
       "\n",
       "#sk-container-id-2 div.sk-parallel-item:last-child::after {\n",
       "  align-self: flex-start;\n",
       "  width: 50%;\n",
       "}\n",
       "\n",
       "#sk-container-id-2 div.sk-parallel-item:only-child::after {\n",
       "  width: 0;\n",
       "}\n",
       "\n",
       "/* Serial-specific style estimator block */\n",
       "\n",
       "#sk-container-id-2 div.sk-serial {\n",
       "  display: flex;\n",
       "  flex-direction: column;\n",
       "  align-items: center;\n",
       "  background-color: var(--sklearn-color-background);\n",
       "  padding-right: 1em;\n",
       "  padding-left: 1em;\n",
       "}\n",
       "\n",
       "\n",
       "/* Toggleable style: style used for estimator/Pipeline/ColumnTransformer box that is\n",
       "clickable and can be expanded/collapsed.\n",
       "- Pipeline and ColumnTransformer use this feature and define the default style\n",
       "- Estimators will overwrite some part of the style using the `sk-estimator` class\n",
       "*/\n",
       "\n",
       "/* Pipeline and ColumnTransformer style (default) */\n",
       "\n",
       "#sk-container-id-2 div.sk-toggleable {\n",
       "  /* Default theme specific background. It is overwritten whether we have a\n",
       "  specific estimator or a Pipeline/ColumnTransformer */\n",
       "  background-color: var(--sklearn-color-background);\n",
       "}\n",
       "\n",
       "/* Toggleable label */\n",
       "#sk-container-id-2 label.sk-toggleable__label {\n",
       "  cursor: pointer;\n",
       "  display: block;\n",
       "  width: 100%;\n",
       "  margin-bottom: 0;\n",
       "  padding: 0.5em;\n",
       "  box-sizing: border-box;\n",
       "  text-align: center;\n",
       "}\n",
       "\n",
       "#sk-container-id-2 label.sk-toggleable__label-arrow:before {\n",
       "  /* Arrow on the left of the label */\n",
       "  content: \"▸\";\n",
       "  float: left;\n",
       "  margin-right: 0.25em;\n",
       "  color: var(--sklearn-color-icon);\n",
       "}\n",
       "\n",
       "#sk-container-id-2 label.sk-toggleable__label-arrow:hover:before {\n",
       "  color: var(--sklearn-color-text);\n",
       "}\n",
       "\n",
       "/* Toggleable content - dropdown */\n",
       "\n",
       "#sk-container-id-2 div.sk-toggleable__content {\n",
       "  max-height: 0;\n",
       "  max-width: 0;\n",
       "  overflow: hidden;\n",
       "  text-align: left;\n",
       "  /* unfitted */\n",
       "  background-color: var(--sklearn-color-unfitted-level-0);\n",
       "}\n",
       "\n",
       "#sk-container-id-2 div.sk-toggleable__content.fitted {\n",
       "  /* fitted */\n",
       "  background-color: var(--sklearn-color-fitted-level-0);\n",
       "}\n",
       "\n",
       "#sk-container-id-2 div.sk-toggleable__content pre {\n",
       "  margin: 0.2em;\n",
       "  border-radius: 0.25em;\n",
       "  color: var(--sklearn-color-text);\n",
       "  /* unfitted */\n",
       "  background-color: var(--sklearn-color-unfitted-level-0);\n",
       "}\n",
       "\n",
       "#sk-container-id-2 div.sk-toggleable__content.fitted pre {\n",
       "  /* unfitted */\n",
       "  background-color: var(--sklearn-color-fitted-level-0);\n",
       "}\n",
       "\n",
       "#sk-container-id-2 input.sk-toggleable__control:checked~div.sk-toggleable__content {\n",
       "  /* Expand drop-down */\n",
       "  max-height: 200px;\n",
       "  max-width: 100%;\n",
       "  overflow: auto;\n",
       "}\n",
       "\n",
       "#sk-container-id-2 input.sk-toggleable__control:checked~label.sk-toggleable__label-arrow:before {\n",
       "  content: \"▾\";\n",
       "}\n",
       "\n",
       "/* Pipeline/ColumnTransformer-specific style */\n",
       "\n",
       "#sk-container-id-2 div.sk-label input.sk-toggleable__control:checked~label.sk-toggleable__label {\n",
       "  color: var(--sklearn-color-text);\n",
       "  background-color: var(--sklearn-color-unfitted-level-2);\n",
       "}\n",
       "\n",
       "#sk-container-id-2 div.sk-label.fitted input.sk-toggleable__control:checked~label.sk-toggleable__label {\n",
       "  background-color: var(--sklearn-color-fitted-level-2);\n",
       "}\n",
       "\n",
       "/* Estimator-specific style */\n",
       "\n",
       "/* Colorize estimator box */\n",
       "#sk-container-id-2 div.sk-estimator input.sk-toggleable__control:checked~label.sk-toggleable__label {\n",
       "  /* unfitted */\n",
       "  background-color: var(--sklearn-color-unfitted-level-2);\n",
       "}\n",
       "\n",
       "#sk-container-id-2 div.sk-estimator.fitted input.sk-toggleable__control:checked~label.sk-toggleable__label {\n",
       "  /* fitted */\n",
       "  background-color: var(--sklearn-color-fitted-level-2);\n",
       "}\n",
       "\n",
       "#sk-container-id-2 div.sk-label label.sk-toggleable__label,\n",
       "#sk-container-id-2 div.sk-label label {\n",
       "  /* The background is the default theme color */\n",
       "  color: var(--sklearn-color-text-on-default-background);\n",
       "}\n",
       "\n",
       "/* On hover, darken the color of the background */\n",
       "#sk-container-id-2 div.sk-label:hover label.sk-toggleable__label {\n",
       "  color: var(--sklearn-color-text);\n",
       "  background-color: var(--sklearn-color-unfitted-level-2);\n",
       "}\n",
       "\n",
       "/* Label box, darken color on hover, fitted */\n",
       "#sk-container-id-2 div.sk-label.fitted:hover label.sk-toggleable__label.fitted {\n",
       "  color: var(--sklearn-color-text);\n",
       "  background-color: var(--sklearn-color-fitted-level-2);\n",
       "}\n",
       "\n",
       "/* Estimator label */\n",
       "\n",
       "#sk-container-id-2 div.sk-label label {\n",
       "  font-family: monospace;\n",
       "  font-weight: bold;\n",
       "  display: inline-block;\n",
       "  line-height: 1.2em;\n",
       "}\n",
       "\n",
       "#sk-container-id-2 div.sk-label-container {\n",
       "  text-align: center;\n",
       "}\n",
       "\n",
       "/* Estimator-specific */\n",
       "#sk-container-id-2 div.sk-estimator {\n",
       "  font-family: monospace;\n",
       "  border: 1px dotted var(--sklearn-color-border-box);\n",
       "  border-radius: 0.25em;\n",
       "  box-sizing: border-box;\n",
       "  margin-bottom: 0.5em;\n",
       "  /* unfitted */\n",
       "  background-color: var(--sklearn-color-unfitted-level-0);\n",
       "}\n",
       "\n",
       "#sk-container-id-2 div.sk-estimator.fitted {\n",
       "  /* fitted */\n",
       "  background-color: var(--sklearn-color-fitted-level-0);\n",
       "}\n",
       "\n",
       "/* on hover */\n",
       "#sk-container-id-2 div.sk-estimator:hover {\n",
       "  /* unfitted */\n",
       "  background-color: var(--sklearn-color-unfitted-level-2);\n",
       "}\n",
       "\n",
       "#sk-container-id-2 div.sk-estimator.fitted:hover {\n",
       "  /* fitted */\n",
       "  background-color: var(--sklearn-color-fitted-level-2);\n",
       "}\n",
       "\n",
       "/* Specification for estimator info (e.g. \"i\" and \"?\") */\n",
       "\n",
       "/* Common style for \"i\" and \"?\" */\n",
       "\n",
       ".sk-estimator-doc-link,\n",
       "a:link.sk-estimator-doc-link,\n",
       "a:visited.sk-estimator-doc-link {\n",
       "  float: right;\n",
       "  font-size: smaller;\n",
       "  line-height: 1em;\n",
       "  font-family: monospace;\n",
       "  background-color: var(--sklearn-color-background);\n",
       "  border-radius: 1em;\n",
       "  height: 1em;\n",
       "  width: 1em;\n",
       "  text-decoration: none !important;\n",
       "  margin-left: 1ex;\n",
       "  /* unfitted */\n",
       "  border: var(--sklearn-color-unfitted-level-1) 1pt solid;\n",
       "  color: var(--sklearn-color-unfitted-level-1);\n",
       "}\n",
       "\n",
       ".sk-estimator-doc-link.fitted,\n",
       "a:link.sk-estimator-doc-link.fitted,\n",
       "a:visited.sk-estimator-doc-link.fitted {\n",
       "  /* fitted */\n",
       "  border: var(--sklearn-color-fitted-level-1) 1pt solid;\n",
       "  color: var(--sklearn-color-fitted-level-1);\n",
       "}\n",
       "\n",
       "/* On hover */\n",
       "div.sk-estimator:hover .sk-estimator-doc-link:hover,\n",
       ".sk-estimator-doc-link:hover,\n",
       "div.sk-label-container:hover .sk-estimator-doc-link:hover,\n",
       ".sk-estimator-doc-link:hover {\n",
       "  /* unfitted */\n",
       "  background-color: var(--sklearn-color-unfitted-level-3);\n",
       "  color: var(--sklearn-color-background);\n",
       "  text-decoration: none;\n",
       "}\n",
       "\n",
       "div.sk-estimator.fitted:hover .sk-estimator-doc-link.fitted:hover,\n",
       ".sk-estimator-doc-link.fitted:hover,\n",
       "div.sk-label-container:hover .sk-estimator-doc-link.fitted:hover,\n",
       ".sk-estimator-doc-link.fitted:hover {\n",
       "  /* fitted */\n",
       "  background-color: var(--sklearn-color-fitted-level-3);\n",
       "  color: var(--sklearn-color-background);\n",
       "  text-decoration: none;\n",
       "}\n",
       "\n",
       "/* Span, style for the box shown on hovering the info icon */\n",
       ".sk-estimator-doc-link span {\n",
       "  display: none;\n",
       "  z-index: 9999;\n",
       "  position: relative;\n",
       "  font-weight: normal;\n",
       "  right: .2ex;\n",
       "  padding: .5ex;\n",
       "  margin: .5ex;\n",
       "  width: min-content;\n",
       "  min-width: 20ex;\n",
       "  max-width: 50ex;\n",
       "  color: var(--sklearn-color-text);\n",
       "  box-shadow: 2pt 2pt 4pt #999;\n",
       "  /* unfitted */\n",
       "  background: var(--sklearn-color-unfitted-level-0);\n",
       "  border: .5pt solid var(--sklearn-color-unfitted-level-3);\n",
       "}\n",
       "\n",
       ".sk-estimator-doc-link.fitted span {\n",
       "  /* fitted */\n",
       "  background: var(--sklearn-color-fitted-level-0);\n",
       "  border: var(--sklearn-color-fitted-level-3);\n",
       "}\n",
       "\n",
       ".sk-estimator-doc-link:hover span {\n",
       "  display: block;\n",
       "}\n",
       "\n",
       "/* \"?\"-specific style due to the `<a>` HTML tag */\n",
       "\n",
       "#sk-container-id-2 a.estimator_doc_link {\n",
       "  float: right;\n",
       "  font-size: 1rem;\n",
       "  line-height: 1em;\n",
       "  font-family: monospace;\n",
       "  background-color: var(--sklearn-color-background);\n",
       "  border-radius: 1rem;\n",
       "  height: 1rem;\n",
       "  width: 1rem;\n",
       "  text-decoration: none;\n",
       "  /* unfitted */\n",
       "  color: var(--sklearn-color-unfitted-level-1);\n",
       "  border: var(--sklearn-color-unfitted-level-1) 1pt solid;\n",
       "}\n",
       "\n",
       "#sk-container-id-2 a.estimator_doc_link.fitted {\n",
       "  /* fitted */\n",
       "  border: var(--sklearn-color-fitted-level-1) 1pt solid;\n",
       "  color: var(--sklearn-color-fitted-level-1);\n",
       "}\n",
       "\n",
       "/* On hover */\n",
       "#sk-container-id-2 a.estimator_doc_link:hover {\n",
       "  /* unfitted */\n",
       "  background-color: var(--sklearn-color-unfitted-level-3);\n",
       "  color: var(--sklearn-color-background);\n",
       "  text-decoration: none;\n",
       "}\n",
       "\n",
       "#sk-container-id-2 a.estimator_doc_link.fitted:hover {\n",
       "  /* fitted */\n",
       "  background-color: var(--sklearn-color-fitted-level-3);\n",
       "}\n",
       "</style><div id=\"sk-container-id-2\" class=\"sk-top-container\"><div class=\"sk-text-repr-fallback\"><pre>RandomForestClassifier(max_depth=10, random_state=123)</pre><b>In a Jupyter environment, please rerun this cell to show the HTML representation or trust the notebook. <br />On GitHub, the HTML representation is unable to render, please try loading this page with nbviewer.org.</b></div><div class=\"sk-container\" hidden><div class=\"sk-item\"><div class=\"sk-estimator fitted sk-toggleable\"><input class=\"sk-toggleable__control sk-hidden--visually\" id=\"sk-estimator-id-2\" type=\"checkbox\" checked><label for=\"sk-estimator-id-2\" class=\"sk-toggleable__label fitted sk-toggleable__label-arrow fitted\">&nbsp;&nbsp;RandomForestClassifier<a class=\"sk-estimator-doc-link fitted\" rel=\"noreferrer\" target=\"_blank\" href=\"https://scikit-learn.org/1.4/modules/generated/sklearn.ensemble.RandomForestClassifier.html\">?<span>Documentation for RandomForestClassifier</span></a><span class=\"sk-estimator-doc-link fitted\">i<span>Fitted</span></span></label><div class=\"sk-toggleable__content fitted\"><pre>RandomForestClassifier(max_depth=10, random_state=123)</pre></div> </div></div></div></div>"
      ]
     },
     "execution_count": 17,
     "metadata": {},
     "output_type": "execute_result"
    }
   ],
   "execution_count": 17
  },
  {
   "cell_type": "code",
   "id": "6c1e594f",
   "metadata": {
    "ExecuteTime": {
     "end_time": "2025-03-31T04:24:55.864726Z",
     "start_time": "2025-03-31T04:24:55.841884Z"
    }
   },
   "source": [
    "# 📈 Predict and evaluate\n",
    "y_pred = model.predict(X_test)\n",
    "print(classification_report(y_test, y_pred))\n",
    "print(\"Accuracy:\", accuracy_score(y_test, y_pred))\n"
   ],
   "outputs": [
    {
     "name": "stdout",
     "output_type": "stream",
     "text": [
      "              precision    recall  f1-score   support\n",
      "\n",
      "           0       1.00      0.57      0.73         7\n",
      "           1       0.99      1.00      0.99       200\n",
      "\n",
      "    accuracy                           0.99       207\n",
      "   macro avg       0.99      0.79      0.86       207\n",
      "weighted avg       0.99      0.99      0.98       207\n",
      "\n",
      "Accuracy: 0.9855072463768116\n"
     ]
    }
   ],
   "execution_count": 18
  },
  {
   "metadata": {
    "ExecuteTime": {
     "end_time": "2025-03-31T04:41:36.804557Z",
     "start_time": "2025-03-31T04:41:36.560374Z"
    }
   },
   "cell_type": "code",
   "source": [
    "# Feature Importance Visual\n",
    "import matplotlib.pyplot as plt\n",
    "import pandas as pd\n",
    "\n",
    "importances = model.feature_importances_\n",
    "feature_names = X.columns\n",
    "\n",
    "forest_importances = pd.Series(importances, index=feature_names)\n",
    "forest_importances.nlargest(10).plot(kind='barh')\n",
    "plt.title(\"Top 10 Feature Importance\")\n",
    "plt.xlabel(\"Importance Score\")\n",
    "plt.show()\n"
   ],
   "id": "fa5ae76bd35978ec",
   "outputs": [
    {
     "data": {
      "text/plain": [
       "<Figure size 640x480 with 1 Axes>"
      ],
      "image/png": "[encoded data removed]"
     },
     "metadata": {},
     "output_type": "display_data"
    }
   ],
   "execution_count": 27
  },
  {
   "metadata": {},
   "cell_type": "markdown",
   "source": [
    "### 📊 Feature Importance\n",
    "\n",
    "The feature importance chart highlights the top predictors influencing model decisions.\n",
    "\n",
    "In this Random Forest model:\n",
    "- **OvertimeHours** was the most important factor\n",
    "- **JobRate**, **SickLeaves**, and **UnpaidLeaves** also contributed significantly\n",
    "- Lesser but still relevant factors included **Department** and **MonthlySalary**\n",
    "\n",
    "These features align with the engagement logic established earlier in the notebook, validating our derived labels.\n",
    "\n",
    "**📊 Compared to PyCaret:**\n",
    "The PyCaret model (LightGBM) ranked **OvertimeHours**, **JobRate**, and **MonthlySalary** among the top features as well. This agreement between models reinforces their predictive strength.\n"
   ],
   "id": "d5d3bda5be55834e"
  },
  {
   "metadata": {
    "ExecuteTime": {
     "end_time": "2025-03-31T04:27:59.446915Z",
     "start_time": "2025-03-31T04:27:59.284761Z"
    }
   },
   "cell_type": "code",
   "source": [
    "#Confusion Matrix Visual\n",
    "from sklearn.metrics import ConfusionMatrixDisplay\n",
    "\n",
    "ConfusionMatrixDisplay.from_estimator(model, X_test, y_test)\n",
    "plt.title(\"Confusion Matrix\")\n",
    "plt.show()\n"
   ],
   "id": "f4802ba97f1a08f8",
   "outputs": [
    {
     "data": {
      "text/plain": [
       "<Figure size 640x480 with 2 Axes>"
      ],
      "image/png": "[encoded data removed]"
     },
     "metadata": {},
     "output_type": "display_data"
    }
   ],
   "execution_count": 23
  },
  {
   "metadata": {},
   "cell_type": "markdown",
   "source": [
    "### 📉 Confusion Matrix\n",
    "\n",
    "The confusion matrix visualizes how well the model distinguishes between the two engagement levels: **High (1)** and **Medium (0)**.\n",
    "\n",
    "It shows the number of correct and incorrect predictions for each class.\n",
    "\n",
    "In this case, the model made:\n",
    "- ✅ **200 correct predictions** for High\n",
    "- ✅ **4 correct predictions** for Medium\n",
    "- ❌ **3 false positives** (Medium predicted as High)\n",
    "- ❌ **0 false negatives**\n",
    "\n",
    "This indicates strong performance, especially in recognizing High engagement employees.\n",
    "\n",
    "**📊 Compared to PyCaret:**\n",
    "The PyCaret model also achieved very similar accuracy (**LightGBM model**). Both confusion matrices suggest excellent recall for the High class. Slight differences exist due to algorithm variance.\n"
   ],
   "id": "da175601902f11eb"
  },
  {
   "metadata": {
    "ExecuteTime": {
     "end_time": "2025-03-31T04:25:29.097370Z",
     "start_time": "2025-03-31T04:25:28.871147Z"
    }
   },
   "cell_type": "code",
   "source": [
    "#ROC Curve\n",
    "from sklearn.metrics import RocCurveDisplay\n",
    "\n",
    "RocCurveDisplay.from_estimator(model, X_test, y_test)\n",
    "plt.title(\"ROC Curve\")\n",
    "plt.show()\n"
   ],
   "id": "e1790285cb5ae99d",
   "outputs": [
    {
     "data": {
      "text/plain": [
       "<Figure size 640x480 with 1 Axes>"
      ],
      "image/png": "[encoded data removed]"
     },
     "metadata": {},
     "output_type": "display_data"
    }
   ],
   "execution_count": 22
  },
  {
   "metadata": {},
   "cell_type": "markdown",
   "source": [
    "### 📈 ROC Curve\n",
    "\n",
    "The ROC Curve (Receiver Operating Characteristic Curve) shows how well the model separates the two engagement classes Medium (0) and High (1) at various threshold settings.\n",
    "\n",
    "This Random Forest model achieved an AUC score of **1.00**, indicating perfect performance with no false positives or false negatives across threshold levels. The curve hugs the top-left corner, which is ideal in binary classification.\n",
    "\n",
    "📊 Compared to PyCaret:\n",
    "The PyCaret LightGBM model also showed strong ROC performance, with AUC scores of **0.98** for both classes and a **micro-average AUC of 1.00**. While both models are highly accurate, slight differences may arise due to algorithmic learning styles and internal optimizations.\n"
   ],
   "id": "b80f5528ef091d5a"
  },
  {
   "cell_type": "markdown",
   "id": "a70948bd",
   "metadata": {},
   "source": [
    "## 📊 Final Model Evaluation\n",
    "\n",
    "We used a `RandomForestClassifier` to predict employee engagement on the test set.\n",
    "\n",
    "### Breakdown of Performance:\n",
    "- **Class 0** (High Engagement):\n",
    "  - Precision = 1.00\n",
    "  - Recall = 0.57\n",
    "  - F1 Score = 0.73\n",
    "  - ⚠️ Only 7 samples → lower recall suggests the model missed some high engagement cases.\n",
    "\n",
    "- **Class 1** (Medium Engagement):\n",
    "  - Precision = 0.99\n",
    "  - Recall = 1.00\n",
    "  - F1 Score = 0.99\n",
    "  - ✅ Model predicted the majority class very well.\n",
    "\n",
    "### Overall Scores:\n",
    "| Metric          | Value      |\n",
    "|-----------------|------------|\n",
    "| Accuracy        | **0.9855** |\n",
    "| Macro Avg F1    | 0.86       |\n",
    "| Weighted Avg F1 | 0.98       |\n",
    "\n",
    "🔎 **Interpretation**:\n",
    "The model is highly accurate and handles the dominant class (Medium) extremely well.\n",
    "While precision for High engagement is perfect, the **recall is lower** - likely due to fewer examples in the test set, even after using SMOTE during training.\n",
    "\n",
    "✅ For deployment, this model would work well in identifying medium-engagement employees reliably, and **some** high-engagement cases. You could improve recall for “High” by collecting more labeled examples in that group.\n",
    "\n"
   ]
  },
  {
   "metadata": {},
   "cell_type": "markdown",
   "source": [
    "### 🔄 Connecting to the PyCaret Model\n",
    "\n",
    "This scikit-learn model was directly informed by the findings from the earlier PyCaret notebook.\n",
    "\n",
    "### Key Findings Carried Over:\n",
    "- **Target Variable**: We used the same `EngagementLevel` column created from JobRate, OvertimeHours, SickLeaves, and UnpaidLeaves.\n",
    "- **Class Imbalance Strategy**: In PyCaret, we merged the `'Low'` class into `'Medium'` due to having only 2 records, then applied SMOTE. We repeated the same merging and oversampling here.\n",
    "- **Best Model Type**: PyCaret identified **LightGBM**, a tree-based model, as the best performer. Since LightGBM isn't available natively in scikit-learn, we selected `RandomForestClassifier`, another high-performing tree-based model.\n",
    "- **Metrics Used**: Just like in PyCaret, we report accuracy, precision, recall, and F1-score to evaluate our model's effectiveness.\n",
    "\n",
    "This notebook mirrors the preprocessing logic, model type, and evaluation strategy from PyCaret, while providing a manual implementation using core scikit-learn tools.\n"
   ],
   "id": "00b0b037"
  }
 ],
 "metadata": {
  "kernelspec": {
   "display_name": "Python 3 (ipykernel)",
   "language": "python",
   "name": "python3"
  }
 },
 "nbformat": 4,
 "nbformat_minor": 5
}
